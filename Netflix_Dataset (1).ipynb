{
  "cells": [
    {
      "cell_type": "markdown",
      "metadata": {
        "id": "z47PqKlL93J8"
      },
      "source": [
        "**Data Analysis and Visualization using Pandas, NumPy, Matplotlib, and Seaborn**"
      ]
    },
    {
      "cell_type": "markdown",
      "metadata": {
        "id": "d9z8rNUE_QID"
      },
      "source": [
        "**1.Defining Problem Statement**\n"
      ]
    },
    {
      "cell_type": "markdown",
      "metadata": {
        "id": "Z2SjjGRw_Xx1"
      },
      "source": [
        "*   Our objective is to analyze audience preferences and viewing trends to provide Netflix with valuable recommendations on the most promising genres and content styles for future production.\n",
        "*   How can Netflix improve its business growth in different countries and expand its reach internationally\n",
        "\n"
      ]
    },
    {
      "cell_type": "markdown",
      "metadata": {
        "id": "lNLQk6EaEpru"
      },
      "source": [
        "**Analysing basic metrics**\n"
      ]
    },
    {
      "cell_type": "code",
      "execution_count": null,
      "metadata": {
        "id": "x7wy609YmVfc"
      },
      "outputs": [],
      "source": [
        "import pandas as pd\n",
        "import numpy as np\n",
        "import matplotlib.pyplot as plt\n",
        "import seaborn as sns"
      ]
    },
    {
      "cell_type": "markdown",
      "metadata": {
        "id": "k-emfH7F-CXo"
      },
      "source": [
        "**Netflix Dataset**"
      ]
    },
    {
      "cell_type": "code",
      "execution_count": null,
      "metadata": {
        "colab": {
          "base_uri": "https://localhost:8080/"
        },
        "id": "rDgGEpJrCW6Y",
        "outputId": "e4e062f8-fed1-4ee3-be66-31f2e1abce5e"
      },
      "outputs": [
        {
          "output_type": "stream",
          "name": "stdout",
          "text": [
            "Downloading...\n",
            "From: https://d2beiqkhq929f0.cloudfront.net/public_assets/assets/000/000/940/original/netflix.csv\n",
            "To: /content/netflix.csv\n",
            "100% 3.40M/3.40M [00:00<00:00, 26.5MB/s]\n"
          ]
        }
      ],
      "source": [
        "!gdown https://d2beiqkhq929f0.cloudfront.net/public_assets/assets/000/000/940/original/netflix.csv"
      ]
    },
    {
      "cell_type": "code",
      "execution_count": null,
      "metadata": {
        "colab": {
          "base_uri": "https://localhost:8080/",
          "height": 1000
        },
        "id": "yZyyovQZ-d4U",
        "outputId": "a8211740-f539-4a6d-f1e6-429b6bffb73d"
      },
      "outputs": [
        {
          "output_type": "execute_result",
          "data": {
            "text/plain": [
              "     show_id     type                  title         director  \\\n",
              "0         s1    Movie   Dick Johnson Is Dead  Kirsten Johnson   \n",
              "1         s2  TV Show          Blood & Water              NaN   \n",
              "2         s3  TV Show              Ganglands  Julien Leclercq   \n",
              "3         s4  TV Show  Jailbirds New Orleans              NaN   \n",
              "4         s5  TV Show           Kota Factory              NaN   \n",
              "...      ...      ...                    ...              ...   \n",
              "8802   s8803    Movie                 Zodiac    David Fincher   \n",
              "8803   s8804  TV Show            Zombie Dumb              NaN   \n",
              "8804   s8805    Movie             Zombieland  Ruben Fleischer   \n",
              "8805   s8806    Movie                   Zoom     Peter Hewitt   \n",
              "8806   s8807    Movie                 Zubaan      Mozez Singh   \n",
              "\n",
              "                                                   cast        country  \\\n",
              "0                                                   NaN  United States   \n",
              "1     Ama Qamata, Khosi Ngema, Gail Mabalane, Thaban...   South Africa   \n",
              "2     Sami Bouajila, Tracy Gotoas, Samuel Jouy, Nabi...            NaN   \n",
              "3                                                   NaN            NaN   \n",
              "4     Mayur More, Jitendra Kumar, Ranjan Raj, Alam K...          India   \n",
              "...                                                 ...            ...   \n",
              "8802  Mark Ruffalo, Jake Gyllenhaal, Robert Downey J...  United States   \n",
              "8803                                                NaN            NaN   \n",
              "8804  Jesse Eisenberg, Woody Harrelson, Emma Stone, ...  United States   \n",
              "8805  Tim Allen, Courteney Cox, Chevy Chase, Kate Ma...  United States   \n",
              "8806  Vicky Kaushal, Sarah-Jane Dias, Raaghav Chanan...          India   \n",
              "\n",
              "              date_added  release_year rating   duration  \\\n",
              "0     September 25, 2021          2020  PG-13     90 min   \n",
              "1     September 24, 2021          2021  TV-MA  2 Seasons   \n",
              "2     September 24, 2021          2021  TV-MA   1 Season   \n",
              "3     September 24, 2021          2021  TV-MA   1 Season   \n",
              "4     September 24, 2021          2021  TV-MA  2 Seasons   \n",
              "...                  ...           ...    ...        ...   \n",
              "8802   November 20, 2019          2007      R    158 min   \n",
              "8803        July 1, 2019          2018  TV-Y7  2 Seasons   \n",
              "8804    November 1, 2019          2009      R     88 min   \n",
              "8805    January 11, 2020          2006     PG     88 min   \n",
              "8806       March 2, 2019          2015  TV-14    111 min   \n",
              "\n",
              "                                              listed_in  \\\n",
              "0                                         Documentaries   \n",
              "1       International TV Shows, TV Dramas, TV Mysteries   \n",
              "2     Crime TV Shows, International TV Shows, TV Act...   \n",
              "3                                Docuseries, Reality TV   \n",
              "4     International TV Shows, Romantic TV Shows, TV ...   \n",
              "...                                                 ...   \n",
              "8802                     Cult Movies, Dramas, Thrillers   \n",
              "8803             Kids' TV, Korean TV Shows, TV Comedies   \n",
              "8804                            Comedies, Horror Movies   \n",
              "8805                 Children & Family Movies, Comedies   \n",
              "8806     Dramas, International Movies, Music & Musicals   \n",
              "\n",
              "                                            description  \n",
              "0     As her father nears the end of his life, filmm...  \n",
              "1     After crossing paths at a party, a Cape Town t...  \n",
              "2     To protect his family from a powerful drug lor...  \n",
              "3     Feuds, flirtations and toilet talk go down amo...  \n",
              "4     In a city of coaching centers known to train I...  \n",
              "...                                                 ...  \n",
              "8802  A political cartoonist, a crime reporter and a...  \n",
              "8803  While living alone in a spooky town, a young g...  \n",
              "8804  Looking to survive in a world taken over by zo...  \n",
              "8805  Dragged from civilian life, a former superhero...  \n",
              "8806  A scrappy but poor boy worms his way into a ty...  \n",
              "\n",
              "[8807 rows x 12 columns]"
            ],
            "text/html": [
              "\n",
              "  <div id=\"df-614e155d-f610-42d3-8bd8-3fa519a6a912\" class=\"colab-df-container\">\n",
              "    <div>\n",
              "<style scoped>\n",
              "    .dataframe tbody tr th:only-of-type {\n",
              "        vertical-align: middle;\n",
              "    }\n",
              "\n",
              "    .dataframe tbody tr th {\n",
              "        vertical-align: top;\n",
              "    }\n",
              "\n",
              "    .dataframe thead th {\n",
              "        text-align: right;\n",
              "    }\n",
              "</style>\n",
              "<table border=\"1\" class=\"dataframe\">\n",
              "  <thead>\n",
              "    <tr style=\"text-align: right;\">\n",
              "      <th></th>\n",
              "      <th>show_id</th>\n",
              "      <th>type</th>\n",
              "      <th>title</th>\n",
              "      <th>director</th>\n",
              "      <th>cast</th>\n",
              "      <th>country</th>\n",
              "      <th>date_added</th>\n",
              "      <th>release_year</th>\n",
              "      <th>rating</th>\n",
              "      <th>duration</th>\n",
              "      <th>listed_in</th>\n",
              "      <th>description</th>\n",
              "    </tr>\n",
              "  </thead>\n",
              "  <tbody>\n",
              "    <tr>\n",
              "      <th>0</th>\n",
              "      <td>s1</td>\n",
              "      <td>Movie</td>\n",
              "      <td>Dick Johnson Is Dead</td>\n",
              "      <td>Kirsten Johnson</td>\n",
              "      <td>NaN</td>\n",
              "      <td>United States</td>\n",
              "      <td>September 25, 2021</td>\n",
              "      <td>2020</td>\n",
              "      <td>PG-13</td>\n",
              "      <td>90 min</td>\n",
              "      <td>Documentaries</td>\n",
              "      <td>As her father nears the end of his life, filmm...</td>\n",
              "    </tr>\n",
              "    <tr>\n",
              "      <th>1</th>\n",
              "      <td>s2</td>\n",
              "      <td>TV Show</td>\n",
              "      <td>Blood &amp; Water</td>\n",
              "      <td>NaN</td>\n",
              "      <td>Ama Qamata, Khosi Ngema, Gail Mabalane, Thaban...</td>\n",
              "      <td>South Africa</td>\n",
              "      <td>September 24, 2021</td>\n",
              "      <td>2021</td>\n",
              "      <td>TV-MA</td>\n",
              "      <td>2 Seasons</td>\n",
              "      <td>International TV Shows, TV Dramas, TV Mysteries</td>\n",
              "      <td>After crossing paths at a party, a Cape Town t...</td>\n",
              "    </tr>\n",
              "    <tr>\n",
              "      <th>2</th>\n",
              "      <td>s3</td>\n",
              "      <td>TV Show</td>\n",
              "      <td>Ganglands</td>\n",
              "      <td>Julien Leclercq</td>\n",
              "      <td>Sami Bouajila, Tracy Gotoas, Samuel Jouy, Nabi...</td>\n",
              "      <td>NaN</td>\n",
              "      <td>September 24, 2021</td>\n",
              "      <td>2021</td>\n",
              "      <td>TV-MA</td>\n",
              "      <td>1 Season</td>\n",
              "      <td>Crime TV Shows, International TV Shows, TV Act...</td>\n",
              "      <td>To protect his family from a powerful drug lor...</td>\n",
              "    </tr>\n",
              "    <tr>\n",
              "      <th>3</th>\n",
              "      <td>s4</td>\n",
              "      <td>TV Show</td>\n",
              "      <td>Jailbirds New Orleans</td>\n",
              "      <td>NaN</td>\n",
              "      <td>NaN</td>\n",
              "      <td>NaN</td>\n",
              "      <td>September 24, 2021</td>\n",
              "      <td>2021</td>\n",
              "      <td>TV-MA</td>\n",
              "      <td>1 Season</td>\n",
              "      <td>Docuseries, Reality TV</td>\n",
              "      <td>Feuds, flirtations and toilet talk go down amo...</td>\n",
              "    </tr>\n",
              "    <tr>\n",
              "      <th>4</th>\n",
              "      <td>s5</td>\n",
              "      <td>TV Show</td>\n",
              "      <td>Kota Factory</td>\n",
              "      <td>NaN</td>\n",
              "      <td>Mayur More, Jitendra Kumar, Ranjan Raj, Alam K...</td>\n",
              "      <td>India</td>\n",
              "      <td>September 24, 2021</td>\n",
              "      <td>2021</td>\n",
              "      <td>TV-MA</td>\n",
              "      <td>2 Seasons</td>\n",
              "      <td>International TV Shows, Romantic TV Shows, TV ...</td>\n",
              "      <td>In a city of coaching centers known to train I...</td>\n",
              "    </tr>\n",
              "    <tr>\n",
              "      <th>...</th>\n",
              "      <td>...</td>\n",
              "      <td>...</td>\n",
              "      <td>...</td>\n",
              "      <td>...</td>\n",
              "      <td>...</td>\n",
              "      <td>...</td>\n",
              "      <td>...</td>\n",
              "      <td>...</td>\n",
              "      <td>...</td>\n",
              "      <td>...</td>\n",
              "      <td>...</td>\n",
              "      <td>...</td>\n",
              "    </tr>\n",
              "    <tr>\n",
              "      <th>8802</th>\n",
              "      <td>s8803</td>\n",
              "      <td>Movie</td>\n",
              "      <td>Zodiac</td>\n",
              "      <td>David Fincher</td>\n",
              "      <td>Mark Ruffalo, Jake Gyllenhaal, Robert Downey J...</td>\n",
              "      <td>United States</td>\n",
              "      <td>November 20, 2019</td>\n",
              "      <td>2007</td>\n",
              "      <td>R</td>\n",
              "      <td>158 min</td>\n",
              "      <td>Cult Movies, Dramas, Thrillers</td>\n",
              "      <td>A political cartoonist, a crime reporter and a...</td>\n",
              "    </tr>\n",
              "    <tr>\n",
              "      <th>8803</th>\n",
              "      <td>s8804</td>\n",
              "      <td>TV Show</td>\n",
              "      <td>Zombie Dumb</td>\n",
              "      <td>NaN</td>\n",
              "      <td>NaN</td>\n",
              "      <td>NaN</td>\n",
              "      <td>July 1, 2019</td>\n",
              "      <td>2018</td>\n",
              "      <td>TV-Y7</td>\n",
              "      <td>2 Seasons</td>\n",
              "      <td>Kids' TV, Korean TV Shows, TV Comedies</td>\n",
              "      <td>While living alone in a spooky town, a young g...</td>\n",
              "    </tr>\n",
              "    <tr>\n",
              "      <th>8804</th>\n",
              "      <td>s8805</td>\n",
              "      <td>Movie</td>\n",
              "      <td>Zombieland</td>\n",
              "      <td>Ruben Fleischer</td>\n",
              "      <td>Jesse Eisenberg, Woody Harrelson, Emma Stone, ...</td>\n",
              "      <td>United States</td>\n",
              "      <td>November 1, 2019</td>\n",
              "      <td>2009</td>\n",
              "      <td>R</td>\n",
              "      <td>88 min</td>\n",
              "      <td>Comedies, Horror Movies</td>\n",
              "      <td>Looking to survive in a world taken over by zo...</td>\n",
              "    </tr>\n",
              "    <tr>\n",
              "      <th>8805</th>\n",
              "      <td>s8806</td>\n",
              "      <td>Movie</td>\n",
              "      <td>Zoom</td>\n",
              "      <td>Peter Hewitt</td>\n",
              "      <td>Tim Allen, Courteney Cox, Chevy Chase, Kate Ma...</td>\n",
              "      <td>United States</td>\n",
              "      <td>January 11, 2020</td>\n",
              "      <td>2006</td>\n",
              "      <td>PG</td>\n",
              "      <td>88 min</td>\n",
              "      <td>Children &amp; Family Movies, Comedies</td>\n",
              "      <td>Dragged from civilian life, a former superhero...</td>\n",
              "    </tr>\n",
              "    <tr>\n",
              "      <th>8806</th>\n",
              "      <td>s8807</td>\n",
              "      <td>Movie</td>\n",
              "      <td>Zubaan</td>\n",
              "      <td>Mozez Singh</td>\n",
              "      <td>Vicky Kaushal, Sarah-Jane Dias, Raaghav Chanan...</td>\n",
              "      <td>India</td>\n",
              "      <td>March 2, 2019</td>\n",
              "      <td>2015</td>\n",
              "      <td>TV-14</td>\n",
              "      <td>111 min</td>\n",
              "      <td>Dramas, International Movies, Music &amp; Musicals</td>\n",
              "      <td>A scrappy but poor boy worms his way into a ty...</td>\n",
              "    </tr>\n",
              "  </tbody>\n",
              "</table>\n",
              "<p>8807 rows × 12 columns</p>\n",
              "</div>\n",
              "    <div class=\"colab-df-buttons\">\n",
              "\n",
              "  <div class=\"colab-df-container\">\n",
              "    <button class=\"colab-df-convert\" onclick=\"convertToInteractive('df-614e155d-f610-42d3-8bd8-3fa519a6a912')\"\n",
              "            title=\"Convert this dataframe to an interactive table.\"\n",
              "            style=\"display:none;\">\n",
              "\n",
              "  <svg xmlns=\"http://www.w3.org/2000/svg\" height=\"24px\" viewBox=\"0 -960 960 960\">\n",
              "    <path d=\"M120-120v-720h720v720H120Zm60-500h600v-160H180v160Zm220 220h160v-160H400v160Zm0 220h160v-160H400v160ZM180-400h160v-160H180v160Zm440 0h160v-160H620v160ZM180-180h160v-160H180v160Zm440 0h160v-160H620v160Z\"/>\n",
              "  </svg>\n",
              "    </button>\n",
              "\n",
              "  <style>\n",
              "    .colab-df-container {\n",
              "      display:flex;\n",
              "      gap: 12px;\n",
              "    }\n",
              "\n",
              "    .colab-df-convert {\n",
              "      background-color: #E8F0FE;\n",
              "      border: none;\n",
              "      border-radius: 50%;\n",
              "      cursor: pointer;\n",
              "      display: none;\n",
              "      fill: #1967D2;\n",
              "      height: 32px;\n",
              "      padding: 0 0 0 0;\n",
              "      width: 32px;\n",
              "    }\n",
              "\n",
              "    .colab-df-convert:hover {\n",
              "      background-color: #E2EBFA;\n",
              "      box-shadow: 0px 1px 2px rgba(60, 64, 67, 0.3), 0px 1px 3px 1px rgba(60, 64, 67, 0.15);\n",
              "      fill: #174EA6;\n",
              "    }\n",
              "\n",
              "    .colab-df-buttons div {\n",
              "      margin-bottom: 4px;\n",
              "    }\n",
              "\n",
              "    [theme=dark] .colab-df-convert {\n",
              "      background-color: #3B4455;\n",
              "      fill: #D2E3FC;\n",
              "    }\n",
              "\n",
              "    [theme=dark] .colab-df-convert:hover {\n",
              "      background-color: #434B5C;\n",
              "      box-shadow: 0px 1px 3px 1px rgba(0, 0, 0, 0.15);\n",
              "      filter: drop-shadow(0px 1px 2px rgba(0, 0, 0, 0.3));\n",
              "      fill: #FFFFFF;\n",
              "    }\n",
              "  </style>\n",
              "\n",
              "    <script>\n",
              "      const buttonEl =\n",
              "        document.querySelector('#df-614e155d-f610-42d3-8bd8-3fa519a6a912 button.colab-df-convert');\n",
              "      buttonEl.style.display =\n",
              "        google.colab.kernel.accessAllowed ? 'block' : 'none';\n",
              "\n",
              "      async function convertToInteractive(key) {\n",
              "        const element = document.querySelector('#df-614e155d-f610-42d3-8bd8-3fa519a6a912');\n",
              "        const dataTable =\n",
              "          await google.colab.kernel.invokeFunction('convertToInteractive',\n",
              "                                                    [key], {});\n",
              "        if (!dataTable) return;\n",
              "\n",
              "        const docLinkHtml = 'Like what you see? Visit the ' +\n",
              "          '<a target=\"_blank\" href=https://colab.research.google.com/notebooks/data_table.ipynb>data table notebook</a>'\n",
              "          + ' to learn more about interactive tables.';\n",
              "        element.innerHTML = '';\n",
              "        dataTable['output_type'] = 'display_data';\n",
              "        await google.colab.output.renderOutput(dataTable, element);\n",
              "        const docLink = document.createElement('div');\n",
              "        docLink.innerHTML = docLinkHtml;\n",
              "        element.appendChild(docLink);\n",
              "      }\n",
              "    </script>\n",
              "  </div>\n",
              "\n",
              "\n",
              "<div id=\"df-3007f7b8-4045-4485-a8c3-90972a4e9574\">\n",
              "  <button class=\"colab-df-quickchart\" onclick=\"quickchart('df-3007f7b8-4045-4485-a8c3-90972a4e9574')\"\n",
              "            title=\"Suggest charts.\"\n",
              "            style=\"display:none;\">\n",
              "\n",
              "<svg xmlns=\"http://www.w3.org/2000/svg\" height=\"24px\"viewBox=\"0 0 24 24\"\n",
              "     width=\"24px\">\n",
              "    <g>\n",
              "        <path d=\"M19 3H5c-1.1 0-2 .9-2 2v14c0 1.1.9 2 2 2h14c1.1 0 2-.9 2-2V5c0-1.1-.9-2-2-2zM9 17H7v-7h2v7zm4 0h-2V7h2v10zm4 0h-2v-4h2v4z\"/>\n",
              "    </g>\n",
              "</svg>\n",
              "  </button>\n",
              "\n",
              "<style>\n",
              "  .colab-df-quickchart {\n",
              "    background-color: #E8F0FE;\n",
              "    border: none;\n",
              "    border-radius: 50%;\n",
              "    cursor: pointer;\n",
              "    display: none;\n",
              "    fill: #1967D2;\n",
              "    height: 32px;\n",
              "    padding: 0 0 0 0;\n",
              "    width: 32px;\n",
              "  }\n",
              "\n",
              "  .colab-df-quickchart:hover {\n",
              "    background-color: #E2EBFA;\n",
              "    box-shadow: 0px 1px 2px rgba(60, 64, 67, 0.3), 0px 1px 3px 1px rgba(60, 64, 67, 0.15);\n",
              "    fill: #174EA6;\n",
              "  }\n",
              "\n",
              "  [theme=dark] .colab-df-quickchart {\n",
              "    background-color: #3B4455;\n",
              "    fill: #D2E3FC;\n",
              "  }\n",
              "\n",
              "  [theme=dark] .colab-df-quickchart:hover {\n",
              "    background-color: #434B5C;\n",
              "    box-shadow: 0px 1px 3px 1px rgba(0, 0, 0, 0.15);\n",
              "    filter: drop-shadow(0px 1px 2px rgba(0, 0, 0, 0.3));\n",
              "    fill: #FFFFFF;\n",
              "  }\n",
              "</style>\n",
              "\n",
              "  <script>\n",
              "    async function quickchart(key) {\n",
              "      const charts = await google.colab.kernel.invokeFunction(\n",
              "          'suggestCharts', [key], {});\n",
              "    }\n",
              "    (() => {\n",
              "      let quickchartButtonEl =\n",
              "        document.querySelector('#df-3007f7b8-4045-4485-a8c3-90972a4e9574 button');\n",
              "      quickchartButtonEl.style.display =\n",
              "        google.colab.kernel.accessAllowed ? 'block' : 'none';\n",
              "    })();\n",
              "  </script>\n",
              "</div>\n",
              "    </div>\n",
              "  </div>\n"
            ]
          },
          "metadata": {},
          "execution_count": 12
        }
      ],
      "source": [
        "df=pd.read_csv(\"netflix.csv\")\n",
        "df"
      ]
    },
    {
      "cell_type": "markdown",
      "metadata": {
        "id": "g7cjZIgAhfJG"
      },
      "source": [
        "**Attributes Information**"
      ]
    },
    {
      "cell_type": "markdown",
      "metadata": {
        "id": "CEkFGVXnhlmh"
      },
      "source": [
        "\n",
        "\n",
        "    Show_id: Unique ID for every Movie / Tv Show\n",
        "    Type: Identifier - A Movie or TV Show\n",
        "    Title: Title of the Movie / Tv Show\n",
        "    Director: Director of the Movie\n",
        "    Cast: Actors involved in the movie/show\n",
        "    Country: Country where the movie/show was produced\n",
        "    Date_added: Date it was added on Netflix\n",
        "    Release_year: Actual Release year of the movie/show\n",
        "    Rating: TV Rating of the movie/show\n",
        "    Duration: Total Duration - in minutes or number of seasons\n",
        "    Listed_in: Genre\n",
        "    Description: The summary description\n",
        "   \n",
        "\n"
      ]
    },
    {
      "cell_type": "code",
      "execution_count": null,
      "metadata": {
        "colab": {
          "base_uri": "https://localhost:8080/"
        },
        "id": "1TDohS8jFsvC",
        "outputId": "d8fdd53c-be8a-422a-b792-e02eedf90199"
      },
      "outputs": [
        {
          "output_type": "stream",
          "name": "stdout",
          "text": [
            "<class 'pandas.core.frame.DataFrame'>\n",
            "RangeIndex: 8807 entries, 0 to 8806\n",
            "Data columns (total 12 columns):\n",
            " #   Column        Non-Null Count  Dtype \n",
            "---  ------        --------------  ----- \n",
            " 0   show_id       8807 non-null   object\n",
            " 1   type          8807 non-null   object\n",
            " 2   title         8807 non-null   object\n",
            " 3   director      6173 non-null   object\n",
            " 4   cast          7982 non-null   object\n",
            " 5   country       7976 non-null   object\n",
            " 6   date_added    8797 non-null   object\n",
            " 7   release_year  8807 non-null   int64 \n",
            " 8   rating        8803 non-null   object\n",
            " 9   duration      8804 non-null   object\n",
            " 10  listed_in     8807 non-null   object\n",
            " 11  description   8807 non-null   object\n",
            "dtypes: int64(1), object(11)\n",
            "memory usage: 825.8+ KB\n",
            "None\n"
          ]
        }
      ],
      "source": [
        "#basic information of the dataset\n",
        "print(df.info())"
      ]
    },
    {
      "cell_type": "code",
      "execution_count": null,
      "metadata": {
        "colab": {
          "base_uri": "https://localhost:8080/"
        },
        "id": "FByxo5vIHXh2",
        "outputId": "d2e6ef09-e52a-4831-bb1f-da06ad08150f"
      },
      "outputs": [
        {
          "output_type": "stream",
          "name": "stdout",
          "text": [
            "show_id            0\n",
            "type               0\n",
            "title              0\n",
            "director        2634\n",
            "cast             825\n",
            "country          831\n",
            "date_added        10\n",
            "release_year       0\n",
            "rating             4\n",
            "duration           3\n",
            "listed_in          0\n",
            "description        0\n",
            "dtype: int64\n"
          ]
        }
      ],
      "source": [
        "# missing value detection\n",
        "print(df.isnull().sum())"
      ]
    },
    {
      "cell_type": "markdown",
      "metadata": {
        "id": "LYQ_-5gFnnRy"
      },
      "source": [
        "**From the missing value detection**,**In the Netflix dataset, 'director,' 'cast,' and 'country' have the most missing values.**"
      ]
    },
    {
      "cell_type": "code",
      "execution_count": null,
      "metadata": {
        "colab": {
          "base_uri": "https://localhost:8080/",
          "height": 1000
        },
        "id": "nHH7XWd5kHby",
        "outputId": "8d5f8892-4d7e-40c1-eeda-1b3e9d8c5a2a"
      },
      "outputs": [
        {
          "output_type": "execute_result",
          "data": {
            "text/plain": [
              "     show_id     type                  title         director  \\\n",
              "0         s1    Movie   Dick Johnson Is Dead  Kirsten Johnson   \n",
              "1         s2  TV Show          Blood & Water          Unknown   \n",
              "2         s3  TV Show              Ganglands  Julien Leclercq   \n",
              "3         s4  TV Show  Jailbirds New Orleans          Unknown   \n",
              "4         s5  TV Show           Kota Factory          Unknown   \n",
              "...      ...      ...                    ...              ...   \n",
              "8802   s8803    Movie                 Zodiac    David Fincher   \n",
              "8803   s8804  TV Show            Zombie Dumb          Unknown   \n",
              "8804   s8805    Movie             Zombieland  Ruben Fleischer   \n",
              "8805   s8806    Movie                   Zoom     Peter Hewitt   \n",
              "8806   s8807    Movie                 Zubaan      Mozez Singh   \n",
              "\n",
              "                                                   cast        country  \\\n",
              "0                                               Unknown  United States   \n",
              "1     Ama Qamata, Khosi Ngema, Gail Mabalane, Thaban...   South Africa   \n",
              "2     Sami Bouajila, Tracy Gotoas, Samuel Jouy, Nabi...        Unknown   \n",
              "3                                               Unknown        Unknown   \n",
              "4     Mayur More, Jitendra Kumar, Ranjan Raj, Alam K...          India   \n",
              "...                                                 ...            ...   \n",
              "8802  Mark Ruffalo, Jake Gyllenhaal, Robert Downey J...  United States   \n",
              "8803                                            Unknown        Unknown   \n",
              "8804  Jesse Eisenberg, Woody Harrelson, Emma Stone, ...  United States   \n",
              "8805  Tim Allen, Courteney Cox, Chevy Chase, Kate Ma...  United States   \n",
              "8806  Vicky Kaushal, Sarah-Jane Dias, Raaghav Chanan...          India   \n",
              "\n",
              "              date_added  release_year rating   duration  \\\n",
              "0     September 25, 2021          2020  PG-13     90 min   \n",
              "1     September 24, 2021          2021  TV-MA  2 Seasons   \n",
              "2     September 24, 2021          2021  TV-MA   1 Season   \n",
              "3     September 24, 2021          2021  TV-MA   1 Season   \n",
              "4     September 24, 2021          2021  TV-MA  2 Seasons   \n",
              "...                  ...           ...    ...        ...   \n",
              "8802   November 20, 2019          2007      R    158 min   \n",
              "8803        July 1, 2019          2018  TV-Y7  2 Seasons   \n",
              "8804    November 1, 2019          2009      R     88 min   \n",
              "8805    January 11, 2020          2006     PG     88 min   \n",
              "8806       March 2, 2019          2015  TV-14    111 min   \n",
              "\n",
              "                                              listed_in  \\\n",
              "0                                         Documentaries   \n",
              "1       International TV Shows, TV Dramas, TV Mysteries   \n",
              "2     Crime TV Shows, International TV Shows, TV Act...   \n",
              "3                                Docuseries, Reality TV   \n",
              "4     International TV Shows, Romantic TV Shows, TV ...   \n",
              "...                                                 ...   \n",
              "8802                     Cult Movies, Dramas, Thrillers   \n",
              "8803             Kids' TV, Korean TV Shows, TV Comedies   \n",
              "8804                            Comedies, Horror Movies   \n",
              "8805                 Children & Family Movies, Comedies   \n",
              "8806     Dramas, International Movies, Music & Musicals   \n",
              "\n",
              "                                            description  \n",
              "0     As her father nears the end of his life, filmm...  \n",
              "1     After crossing paths at a party, a Cape Town t...  \n",
              "2     To protect his family from a powerful drug lor...  \n",
              "3     Feuds, flirtations and toilet talk go down amo...  \n",
              "4     In a city of coaching centers known to train I...  \n",
              "...                                                 ...  \n",
              "8802  A political cartoonist, a crime reporter and a...  \n",
              "8803  While living alone in a spooky town, a young g...  \n",
              "8804  Looking to survive in a world taken over by zo...  \n",
              "8805  Dragged from civilian life, a former superhero...  \n",
              "8806  A scrappy but poor boy worms his way into a ty...  \n",
              "\n",
              "[8807 rows x 12 columns]"
            ],
            "text/html": [
              "\n",
              "  <div id=\"df-96acc466-5dc8-4e86-8ec2-e4da08332eea\" class=\"colab-df-container\">\n",
              "    <div>\n",
              "<style scoped>\n",
              "    .dataframe tbody tr th:only-of-type {\n",
              "        vertical-align: middle;\n",
              "    }\n",
              "\n",
              "    .dataframe tbody tr th {\n",
              "        vertical-align: top;\n",
              "    }\n",
              "\n",
              "    .dataframe thead th {\n",
              "        text-align: right;\n",
              "    }\n",
              "</style>\n",
              "<table border=\"1\" class=\"dataframe\">\n",
              "  <thead>\n",
              "    <tr style=\"text-align: right;\">\n",
              "      <th></th>\n",
              "      <th>show_id</th>\n",
              "      <th>type</th>\n",
              "      <th>title</th>\n",
              "      <th>director</th>\n",
              "      <th>cast</th>\n",
              "      <th>country</th>\n",
              "      <th>date_added</th>\n",
              "      <th>release_year</th>\n",
              "      <th>rating</th>\n",
              "      <th>duration</th>\n",
              "      <th>listed_in</th>\n",
              "      <th>description</th>\n",
              "    </tr>\n",
              "  </thead>\n",
              "  <tbody>\n",
              "    <tr>\n",
              "      <th>0</th>\n",
              "      <td>s1</td>\n",
              "      <td>Movie</td>\n",
              "      <td>Dick Johnson Is Dead</td>\n",
              "      <td>Kirsten Johnson</td>\n",
              "      <td>Unknown</td>\n",
              "      <td>United States</td>\n",
              "      <td>September 25, 2021</td>\n",
              "      <td>2020</td>\n",
              "      <td>PG-13</td>\n",
              "      <td>90 min</td>\n",
              "      <td>Documentaries</td>\n",
              "      <td>As her father nears the end of his life, filmm...</td>\n",
              "    </tr>\n",
              "    <tr>\n",
              "      <th>1</th>\n",
              "      <td>s2</td>\n",
              "      <td>TV Show</td>\n",
              "      <td>Blood &amp; Water</td>\n",
              "      <td>Unknown</td>\n",
              "      <td>Ama Qamata, Khosi Ngema, Gail Mabalane, Thaban...</td>\n",
              "      <td>South Africa</td>\n",
              "      <td>September 24, 2021</td>\n",
              "      <td>2021</td>\n",
              "      <td>TV-MA</td>\n",
              "      <td>2 Seasons</td>\n",
              "      <td>International TV Shows, TV Dramas, TV Mysteries</td>\n",
              "      <td>After crossing paths at a party, a Cape Town t...</td>\n",
              "    </tr>\n",
              "    <tr>\n",
              "      <th>2</th>\n",
              "      <td>s3</td>\n",
              "      <td>TV Show</td>\n",
              "      <td>Ganglands</td>\n",
              "      <td>Julien Leclercq</td>\n",
              "      <td>Sami Bouajila, Tracy Gotoas, Samuel Jouy, Nabi...</td>\n",
              "      <td>Unknown</td>\n",
              "      <td>September 24, 2021</td>\n",
              "      <td>2021</td>\n",
              "      <td>TV-MA</td>\n",
              "      <td>1 Season</td>\n",
              "      <td>Crime TV Shows, International TV Shows, TV Act...</td>\n",
              "      <td>To protect his family from a powerful drug lor...</td>\n",
              "    </tr>\n",
              "    <tr>\n",
              "      <th>3</th>\n",
              "      <td>s4</td>\n",
              "      <td>TV Show</td>\n",
              "      <td>Jailbirds New Orleans</td>\n",
              "      <td>Unknown</td>\n",
              "      <td>Unknown</td>\n",
              "      <td>Unknown</td>\n",
              "      <td>September 24, 2021</td>\n",
              "      <td>2021</td>\n",
              "      <td>TV-MA</td>\n",
              "      <td>1 Season</td>\n",
              "      <td>Docuseries, Reality TV</td>\n",
              "      <td>Feuds, flirtations and toilet talk go down amo...</td>\n",
              "    </tr>\n",
              "    <tr>\n",
              "      <th>4</th>\n",
              "      <td>s5</td>\n",
              "      <td>TV Show</td>\n",
              "      <td>Kota Factory</td>\n",
              "      <td>Unknown</td>\n",
              "      <td>Mayur More, Jitendra Kumar, Ranjan Raj, Alam K...</td>\n",
              "      <td>India</td>\n",
              "      <td>September 24, 2021</td>\n",
              "      <td>2021</td>\n",
              "      <td>TV-MA</td>\n",
              "      <td>2 Seasons</td>\n",
              "      <td>International TV Shows, Romantic TV Shows, TV ...</td>\n",
              "      <td>In a city of coaching centers known to train I...</td>\n",
              "    </tr>\n",
              "    <tr>\n",
              "      <th>...</th>\n",
              "      <td>...</td>\n",
              "      <td>...</td>\n",
              "      <td>...</td>\n",
              "      <td>...</td>\n",
              "      <td>...</td>\n",
              "      <td>...</td>\n",
              "      <td>...</td>\n",
              "      <td>...</td>\n",
              "      <td>...</td>\n",
              "      <td>...</td>\n",
              "      <td>...</td>\n",
              "      <td>...</td>\n",
              "    </tr>\n",
              "    <tr>\n",
              "      <th>8802</th>\n",
              "      <td>s8803</td>\n",
              "      <td>Movie</td>\n",
              "      <td>Zodiac</td>\n",
              "      <td>David Fincher</td>\n",
              "      <td>Mark Ruffalo, Jake Gyllenhaal, Robert Downey J...</td>\n",
              "      <td>United States</td>\n",
              "      <td>November 20, 2019</td>\n",
              "      <td>2007</td>\n",
              "      <td>R</td>\n",
              "      <td>158 min</td>\n",
              "      <td>Cult Movies, Dramas, Thrillers</td>\n",
              "      <td>A political cartoonist, a crime reporter and a...</td>\n",
              "    </tr>\n",
              "    <tr>\n",
              "      <th>8803</th>\n",
              "      <td>s8804</td>\n",
              "      <td>TV Show</td>\n",
              "      <td>Zombie Dumb</td>\n",
              "      <td>Unknown</td>\n",
              "      <td>Unknown</td>\n",
              "      <td>Unknown</td>\n",
              "      <td>July 1, 2019</td>\n",
              "      <td>2018</td>\n",
              "      <td>TV-Y7</td>\n",
              "      <td>2 Seasons</td>\n",
              "      <td>Kids' TV, Korean TV Shows, TV Comedies</td>\n",
              "      <td>While living alone in a spooky town, a young g...</td>\n",
              "    </tr>\n",
              "    <tr>\n",
              "      <th>8804</th>\n",
              "      <td>s8805</td>\n",
              "      <td>Movie</td>\n",
              "      <td>Zombieland</td>\n",
              "      <td>Ruben Fleischer</td>\n",
              "      <td>Jesse Eisenberg, Woody Harrelson, Emma Stone, ...</td>\n",
              "      <td>United States</td>\n",
              "      <td>November 1, 2019</td>\n",
              "      <td>2009</td>\n",
              "      <td>R</td>\n",
              "      <td>88 min</td>\n",
              "      <td>Comedies, Horror Movies</td>\n",
              "      <td>Looking to survive in a world taken over by zo...</td>\n",
              "    </tr>\n",
              "    <tr>\n",
              "      <th>8805</th>\n",
              "      <td>s8806</td>\n",
              "      <td>Movie</td>\n",
              "      <td>Zoom</td>\n",
              "      <td>Peter Hewitt</td>\n",
              "      <td>Tim Allen, Courteney Cox, Chevy Chase, Kate Ma...</td>\n",
              "      <td>United States</td>\n",
              "      <td>January 11, 2020</td>\n",
              "      <td>2006</td>\n",
              "      <td>PG</td>\n",
              "      <td>88 min</td>\n",
              "      <td>Children &amp; Family Movies, Comedies</td>\n",
              "      <td>Dragged from civilian life, a former superhero...</td>\n",
              "    </tr>\n",
              "    <tr>\n",
              "      <th>8806</th>\n",
              "      <td>s8807</td>\n",
              "      <td>Movie</td>\n",
              "      <td>Zubaan</td>\n",
              "      <td>Mozez Singh</td>\n",
              "      <td>Vicky Kaushal, Sarah-Jane Dias, Raaghav Chanan...</td>\n",
              "      <td>India</td>\n",
              "      <td>March 2, 2019</td>\n",
              "      <td>2015</td>\n",
              "      <td>TV-14</td>\n",
              "      <td>111 min</td>\n",
              "      <td>Dramas, International Movies, Music &amp; Musicals</td>\n",
              "      <td>A scrappy but poor boy worms his way into a ty...</td>\n",
              "    </tr>\n",
              "  </tbody>\n",
              "</table>\n",
              "<p>8807 rows × 12 columns</p>\n",
              "</div>\n",
              "    <div class=\"colab-df-buttons\">\n",
              "\n",
              "  <div class=\"colab-df-container\">\n",
              "    <button class=\"colab-df-convert\" onclick=\"convertToInteractive('df-96acc466-5dc8-4e86-8ec2-e4da08332eea')\"\n",
              "            title=\"Convert this dataframe to an interactive table.\"\n",
              "            style=\"display:none;\">\n",
              "\n",
              "  <svg xmlns=\"http://www.w3.org/2000/svg\" height=\"24px\" viewBox=\"0 -960 960 960\">\n",
              "    <path d=\"M120-120v-720h720v720H120Zm60-500h600v-160H180v160Zm220 220h160v-160H400v160Zm0 220h160v-160H400v160ZM180-400h160v-160H180v160Zm440 0h160v-160H620v160ZM180-180h160v-160H180v160Zm440 0h160v-160H620v160Z\"/>\n",
              "  </svg>\n",
              "    </button>\n",
              "\n",
              "  <style>\n",
              "    .colab-df-container {\n",
              "      display:flex;\n",
              "      gap: 12px;\n",
              "    }\n",
              "\n",
              "    .colab-df-convert {\n",
              "      background-color: #E8F0FE;\n",
              "      border: none;\n",
              "      border-radius: 50%;\n",
              "      cursor: pointer;\n",
              "      display: none;\n",
              "      fill: #1967D2;\n",
              "      height: 32px;\n",
              "      padding: 0 0 0 0;\n",
              "      width: 32px;\n",
              "    }\n",
              "\n",
              "    .colab-df-convert:hover {\n",
              "      background-color: #E2EBFA;\n",
              "      box-shadow: 0px 1px 2px rgba(60, 64, 67, 0.3), 0px 1px 3px 1px rgba(60, 64, 67, 0.15);\n",
              "      fill: #174EA6;\n",
              "    }\n",
              "\n",
              "    .colab-df-buttons div {\n",
              "      margin-bottom: 4px;\n",
              "    }\n",
              "\n",
              "    [theme=dark] .colab-df-convert {\n",
              "      background-color: #3B4455;\n",
              "      fill: #D2E3FC;\n",
              "    }\n",
              "\n",
              "    [theme=dark] .colab-df-convert:hover {\n",
              "      background-color: #434B5C;\n",
              "      box-shadow: 0px 1px 3px 1px rgba(0, 0, 0, 0.15);\n",
              "      filter: drop-shadow(0px 1px 2px rgba(0, 0, 0, 0.3));\n",
              "      fill: #FFFFFF;\n",
              "    }\n",
              "  </style>\n",
              "\n",
              "    <script>\n",
              "      const buttonEl =\n",
              "        document.querySelector('#df-96acc466-5dc8-4e86-8ec2-e4da08332eea button.colab-df-convert');\n",
              "      buttonEl.style.display =\n",
              "        google.colab.kernel.accessAllowed ? 'block' : 'none';\n",
              "\n",
              "      async function convertToInteractive(key) {\n",
              "        const element = document.querySelector('#df-96acc466-5dc8-4e86-8ec2-e4da08332eea');\n",
              "        const dataTable =\n",
              "          await google.colab.kernel.invokeFunction('convertToInteractive',\n",
              "                                                    [key], {});\n",
              "        if (!dataTable) return;\n",
              "\n",
              "        const docLinkHtml = 'Like what you see? Visit the ' +\n",
              "          '<a target=\"_blank\" href=https://colab.research.google.com/notebooks/data_table.ipynb>data table notebook</a>'\n",
              "          + ' to learn more about interactive tables.';\n",
              "        element.innerHTML = '';\n",
              "        dataTable['output_type'] = 'display_data';\n",
              "        await google.colab.output.renderOutput(dataTable, element);\n",
              "        const docLink = document.createElement('div');\n",
              "        docLink.innerHTML = docLinkHtml;\n",
              "        element.appendChild(docLink);\n",
              "      }\n",
              "    </script>\n",
              "  </div>\n",
              "\n",
              "\n",
              "<div id=\"df-96d317c2-9d18-42ad-85c7-030f56574889\">\n",
              "  <button class=\"colab-df-quickchart\" onclick=\"quickchart('df-96d317c2-9d18-42ad-85c7-030f56574889')\"\n",
              "            title=\"Suggest charts.\"\n",
              "            style=\"display:none;\">\n",
              "\n",
              "<svg xmlns=\"http://www.w3.org/2000/svg\" height=\"24px\"viewBox=\"0 0 24 24\"\n",
              "     width=\"24px\">\n",
              "    <g>\n",
              "        <path d=\"M19 3H5c-1.1 0-2 .9-2 2v14c0 1.1.9 2 2 2h14c1.1 0 2-.9 2-2V5c0-1.1-.9-2-2-2zM9 17H7v-7h2v7zm4 0h-2V7h2v10zm4 0h-2v-4h2v4z\"/>\n",
              "    </g>\n",
              "</svg>\n",
              "  </button>\n",
              "\n",
              "<style>\n",
              "  .colab-df-quickchart {\n",
              "    background-color: #E8F0FE;\n",
              "    border: none;\n",
              "    border-radius: 50%;\n",
              "    cursor: pointer;\n",
              "    display: none;\n",
              "    fill: #1967D2;\n",
              "    height: 32px;\n",
              "    padding: 0 0 0 0;\n",
              "    width: 32px;\n",
              "  }\n",
              "\n",
              "  .colab-df-quickchart:hover {\n",
              "    background-color: #E2EBFA;\n",
              "    box-shadow: 0px 1px 2px rgba(60, 64, 67, 0.3), 0px 1px 3px 1px rgba(60, 64, 67, 0.15);\n",
              "    fill: #174EA6;\n",
              "  }\n",
              "\n",
              "  [theme=dark] .colab-df-quickchart {\n",
              "    background-color: #3B4455;\n",
              "    fill: #D2E3FC;\n",
              "  }\n",
              "\n",
              "  [theme=dark] .colab-df-quickchart:hover {\n",
              "    background-color: #434B5C;\n",
              "    box-shadow: 0px 1px 3px 1px rgba(0, 0, 0, 0.15);\n",
              "    filter: drop-shadow(0px 1px 2px rgba(0, 0, 0, 0.3));\n",
              "    fill: #FFFFFF;\n",
              "  }\n",
              "</style>\n",
              "\n",
              "  <script>\n",
              "    async function quickchart(key) {\n",
              "      const charts = await google.colab.kernel.invokeFunction(\n",
              "          'suggestCharts', [key], {});\n",
              "    }\n",
              "    (() => {\n",
              "      let quickchartButtonEl =\n",
              "        document.querySelector('#df-96d317c2-9d18-42ad-85c7-030f56574889 button');\n",
              "      quickchartButtonEl.style.display =\n",
              "        google.colab.kernel.accessAllowed ? 'block' : 'none';\n",
              "    })();\n",
              "  </script>\n",
              "</div>\n",
              "    </div>\n",
              "  </div>\n"
            ]
          },
          "metadata": {},
          "execution_count": 15
        }
      ],
      "source": [
        "df[[\"director\",\"cast\",\"country\"]]=df[[\"director\",\"cast\",\"country\"]].fillna(\"Unknown\")\n",
        "df"
      ]
    },
    {
      "cell_type": "code",
      "execution_count": null,
      "metadata": {
        "colab": {
          "base_uri": "https://localhost:8080/"
        },
        "id": "bt7D8_AyozP9",
        "outputId": "e4e72323-2aed-4e9b-99ef-81f863a2e8fb"
      },
      "outputs": [
        {
          "output_type": "execute_result",
          "data": {
            "text/plain": [
              "show_id          0\n",
              "type             0\n",
              "title            0\n",
              "director         0\n",
              "cast             0\n",
              "country          0\n",
              "date_added      10\n",
              "release_year     0\n",
              "rating           4\n",
              "duration         3\n",
              "listed_in        0\n",
              "description      0\n",
              "dtype: int64"
            ]
          },
          "metadata": {},
          "execution_count": 16
        }
      ],
      "source": [
        "#now checking missing values counts\n",
        "df.isna().sum()"
      ]
    },
    {
      "cell_type": "markdown",
      "metadata": {
        "id": "jOn1XX9Do--J"
      },
      "source": [
        "**Now you can see that director,cast,country attributes are filled with \"Unknown\". So there is no missing values on that column**"
      ]
    },
    {
      "cell_type": "code",
      "execution_count": null,
      "metadata": {
        "colab": {
          "base_uri": "https://localhost:8080/"
        },
        "id": "fy0CqfHtFDtz",
        "outputId": "54b6842a-c722-4b67-a7f9-528f634cfabd"
      },
      "outputs": [
        {
          "output_type": "stream",
          "name": "stdout",
          "text": [
            "  show_id     type                  title         director  \\\n",
            "0      s1    Movie   Dick Johnson Is Dead  Kirsten Johnson   \n",
            "1      s2  TV Show          Blood & Water          Unknown   \n",
            "2      s3  TV Show              Ganglands  Julien Leclercq   \n",
            "3      s4  TV Show  Jailbirds New Orleans          Unknown   \n",
            "4      s5  TV Show           Kota Factory          Unknown   \n",
            "\n",
            "                                                cast        country  \\\n",
            "0                                            Unknown  United States   \n",
            "1  Ama Qamata, Khosi Ngema, Gail Mabalane, Thaban...   South Africa   \n",
            "2  Sami Bouajila, Tracy Gotoas, Samuel Jouy, Nabi...        Unknown   \n",
            "3                                            Unknown        Unknown   \n",
            "4  Mayur More, Jitendra Kumar, Ranjan Raj, Alam K...          India   \n",
            "\n",
            "           date_added  release_year rating   duration  \\\n",
            "0  September 25, 2021          2020  PG-13     90 min   \n",
            "1  September 24, 2021          2021  TV-MA  2 Seasons   \n",
            "2  September 24, 2021          2021  TV-MA   1 Season   \n",
            "3  September 24, 2021          2021  TV-MA   1 Season   \n",
            "4  September 24, 2021          2021  TV-MA  2 Seasons   \n",
            "\n",
            "                                           listed_in  \\\n",
            "0                                      Documentaries   \n",
            "1    International TV Shows, TV Dramas, TV Mysteries   \n",
            "2  Crime TV Shows, International TV Shows, TV Act...   \n",
            "3                             Docuseries, Reality TV   \n",
            "4  International TV Shows, Romantic TV Shows, TV ...   \n",
            "\n",
            "                                         description  \n",
            "0  As her father nears the end of his life, filmm...  \n",
            "1  After crossing paths at a party, a Cape Town t...  \n",
            "2  To protect his family from a powerful drug lor...  \n",
            "3  Feuds, flirtations and toilet talk go down amo...  \n",
            "4  In a city of coaching centers known to train I...  \n"
          ]
        }
      ],
      "source": [
        "#Explore the datasets\n",
        "#print the first five rows of the dataset\n",
        "print(df.head(5))"
      ]
    },
    {
      "cell_type": "code",
      "execution_count": null,
      "metadata": {
        "colab": {
          "base_uri": "https://localhost:8080/"
        },
        "id": "wu1v-0RGJKKS",
        "outputId": "a96dd32a-338d-4da8-e341-72ddfcb1a3c1"
      },
      "outputs": [
        {
          "output_type": "stream",
          "name": "stdout",
          "text": [
            "     show_id     type        title         director  \\\n",
            "8802   s8803    Movie       Zodiac    David Fincher   \n",
            "8803   s8804  TV Show  Zombie Dumb          Unknown   \n",
            "8804   s8805    Movie   Zombieland  Ruben Fleischer   \n",
            "8805   s8806    Movie         Zoom     Peter Hewitt   \n",
            "8806   s8807    Movie       Zubaan      Mozez Singh   \n",
            "\n",
            "                                                   cast        country  \\\n",
            "8802  Mark Ruffalo, Jake Gyllenhaal, Robert Downey J...  United States   \n",
            "8803                                            Unknown        Unknown   \n",
            "8804  Jesse Eisenberg, Woody Harrelson, Emma Stone, ...  United States   \n",
            "8805  Tim Allen, Courteney Cox, Chevy Chase, Kate Ma...  United States   \n",
            "8806  Vicky Kaushal, Sarah-Jane Dias, Raaghav Chanan...          India   \n",
            "\n",
            "             date_added  release_year rating   duration  \\\n",
            "8802  November 20, 2019          2007      R    158 min   \n",
            "8803       July 1, 2019          2018  TV-Y7  2 Seasons   \n",
            "8804   November 1, 2019          2009      R     88 min   \n",
            "8805   January 11, 2020          2006     PG     88 min   \n",
            "8806      March 2, 2019          2015  TV-14    111 min   \n",
            "\n",
            "                                           listed_in  \\\n",
            "8802                  Cult Movies, Dramas, Thrillers   \n",
            "8803          Kids' TV, Korean TV Shows, TV Comedies   \n",
            "8804                         Comedies, Horror Movies   \n",
            "8805              Children & Family Movies, Comedies   \n",
            "8806  Dramas, International Movies, Music & Musicals   \n",
            "\n",
            "                                            description  \n",
            "8802  A political cartoonist, a crime reporter and a...  \n",
            "8803  While living alone in a spooky town, a young g...  \n",
            "8804  Looking to survive in a world taken over by zo...  \n",
            "8805  Dragged from civilian life, a former superhero...  \n",
            "8806  A scrappy but poor boy worms his way into a ty...  \n"
          ]
        }
      ],
      "source": [
        "#print the last five rows of the dataset\n",
        "print(df.tail(5))"
      ]
    },
    {
      "cell_type": "code",
      "execution_count": null,
      "metadata": {
        "colab": {
          "base_uri": "https://localhost:8080/"
        },
        "id": "lzr7hNVaGJhQ",
        "outputId": "9aaeb6b9-ac67-49ff-917f-293839a1fcc6"
      },
      "outputs": [
        {
          "output_type": "stream",
          "name": "stdout",
          "text": [
            "show_id         8807\n",
            "type               2\n",
            "title           8807\n",
            "director        4529\n",
            "cast            7693\n",
            "country          749\n",
            "date_added      1767\n",
            "release_year      74\n",
            "rating            17\n",
            "duration         220\n",
            "listed_in        514\n",
            "description     8775\n",
            "dtype: int64\n"
          ]
        }
      ],
      "source": [
        "#getting number of unique values in each column\n",
        "print(df.nunique())"
      ]
    },
    {
      "cell_type": "code",
      "execution_count": null,
      "metadata": {
        "colab": {
          "base_uri": "https://localhost:8080/"
        },
        "id": "dzRfLUWdHluV",
        "outputId": "283bd7a9-3950-433c-e5fa-a6991cbd2223"
      },
      "outputs": [
        {
          "output_type": "stream",
          "name": "stdout",
          "text": [
            "type\n",
            "Movie      2013.121514\n",
            "TV Show    2016.605755\n",
            "Name: release_year, dtype: float64\n"
          ]
        }
      ],
      "source": [
        "#grouping and aggregating the average year for movies and Tv show\n",
        "avg_year=df.groupby(\"type\")[\"release_year\"].mean()\n",
        "print(avg_year)"
      ]
    },
    {
      "cell_type": "markdown",
      "metadata": {
        "id": "krRQ42kWqQvx"
      },
      "source": [
        "**Insights for grouping and aggregating the average year for movies and Tv show**\n",
        "\n",
        "**1.The average release year for movies in the dataset is approximately 2013.12, while for TV shows, it is around 2016.61.**\n",
        "\n",
        "**2.The data shows that,in general,movies in the dataset are released earlier than TV shows. This indicates that there has been a preference for producing TV shows more recently compared to movies.**"
      ]
    },
    {
      "cell_type": "markdown",
      "metadata": {
        "id": "U5QvuBrxJrXO"
      },
      "source": [
        "**2.Observations on the shape of data, data types of all the attributes, conversion of categorical attributes to 'category' (If required), missing value detection, statistical summary**"
      ]
    },
    {
      "cell_type": "code",
      "execution_count": null,
      "metadata": {
        "colab": {
          "base_uri": "https://localhost:8080/"
        },
        "id": "upg1bksmJWTd",
        "outputId": "9f3529f8-58fa-4909-a3aa-a8370a7e1937"
      },
      "outputs": [
        {
          "output_type": "stream",
          "name": "stdout",
          "text": [
            "(8807, 12)\n"
          ]
        }
      ],
      "source": [
        "# observations on the shape of the data\n",
        "print(df.shape)"
      ]
    },
    {
      "cell_type": "code",
      "execution_count": null,
      "metadata": {
        "colab": {
          "base_uri": "https://localhost:8080/"
        },
        "id": "MaIfJNonMQFK",
        "outputId": "95013cdc-8a5d-426c-faa8-076831a0baf7"
      },
      "outputs": [
        {
          "output_type": "stream",
          "name": "stdout",
          "text": [
            "show_id         object\n",
            "type            object\n",
            "title           object\n",
            "director        object\n",
            "cast            object\n",
            "country         object\n",
            "date_added      object\n",
            "release_year     int64\n",
            "rating          object\n",
            "duration        object\n",
            "listed_in       object\n",
            "description     object\n",
            "dtype: object\n"
          ]
        }
      ],
      "source": [
        "# checking the data types of all attributes\n",
        "print(df.dtypes)"
      ]
    },
    {
      "cell_type": "markdown",
      "metadata": {
        "id": "phzTbSZirSkx"
      },
      "source": [
        "**Insights for checking the data types of all attributes**\n",
        "\n",
        "**1.The majority of columns show_id,type,title,director,cast,country,date_added,rating,duration,listed_in,description are represented strings.**\n",
        "\n",
        "**2.The \"release_year\" column is represented as an integer containing numerical data representing the year of release for movies or TV shows.**"
      ]
    },
    {
      "cell_type": "code",
      "execution_count": null,
      "metadata": {
        "colab": {
          "base_uri": "https://localhost:8080/"
        },
        "id": "wNC-umrbMyzQ",
        "outputId": "8ca31267-9e90-417f-edd9-12c0fc8d77b5"
      },
      "outputs": [
        {
          "output_type": "stream",
          "name": "stdout",
          "text": [
            "0         Movie\n",
            "1       TV Show\n",
            "2       TV Show\n",
            "3       TV Show\n",
            "4       TV Show\n",
            "         ...   \n",
            "8802      Movie\n",
            "8803    TV Show\n",
            "8804      Movie\n",
            "8805      Movie\n",
            "8806      Movie\n",
            "Name: type, Length: 8807, dtype: category\n",
            "Categories (2, object): ['Movie', 'TV Show']\n"
          ]
        }
      ],
      "source": [
        "# conversion of categorical attributes to 'category'\n",
        "df[\"type\"]=df[\"type\"].astype(\"category\")\n",
        "print(df[\"type\"])"
      ]
    },
    {
      "cell_type": "code",
      "execution_count": null,
      "metadata": {
        "colab": {
          "base_uri": "https://localhost:8080/"
        },
        "id": "DHHlGdARN687",
        "outputId": "0eca53ff-f483-4092-a993-c4ab345088a9"
      },
      "outputs": [
        {
          "output_type": "stream",
          "name": "stdout",
          "text": [
            "       release_year\n",
            "count   8807.000000\n",
            "mean    2014.180198\n",
            "std        8.819312\n",
            "min     1925.000000\n",
            "25%     2013.000000\n",
            "50%     2017.000000\n",
            "75%     2019.000000\n",
            "max     2021.000000\n"
          ]
        }
      ],
      "source": [
        "# statistical summary\n",
        "print(df.describe())"
      ]
    },
    {
      "cell_type": "markdown",
      "metadata": {
        "id": "i75CacIrt_zt"
      },
      "source": [
        "**Insights for statistical summary :**\n",
        "\n",
        "**The dataset includes content released from as early as 1925 (min) to as recent as 2021 (max),with the majority of content released between 2013 and 2019 (25th to 75th percentile)**"
      ]
    },
    {
      "cell_type": "markdown",
      "metadata": {
        "id": "bOPZPDUkO3p8"
      },
      "source": [
        "**3.Non-Graphical Analysis: Value counts and unique attributes**"
      ]
    },
    {
      "cell_type": "markdown",
      "metadata": {
        "id": "DA2Zvfu8PJEl"
      },
      "source": [
        "Unique attributes"
      ]
    },
    {
      "cell_type": "code",
      "execution_count": null,
      "metadata": {
        "colab": {
          "base_uri": "https://localhost:8080/"
        },
        "id": "nYAccGG7xHj4",
        "outputId": "1dbb3834-7298-4feb-f10f-64bf32d1ee64"
      },
      "outputs": [
        {
          "output_type": "stream",
          "name": "stdout",
          "text": [
            "show_id Unique Attributes: 8807\n",
            "type Unique Attributes: 2\n",
            "title Unique Attributes: 8807\n",
            "director Unique Attributes: 4529\n",
            "cast Unique Attributes: 7693\n",
            "country Unique Attributes: 749\n",
            "date_added Unique Attributes: 1767\n",
            "release_year Unique Attributes: 74\n",
            "rating Unique Attributes: 17\n",
            "duration Unique Attributes: 220\n",
            "listed_in Unique Attributes: 514\n",
            "description Unique Attributes: 8775\n"
          ]
        }
      ],
      "source": [
        "column_to_use = df.columns\n",
        "\n",
        "for col in column_to_use:\n",
        "    column_unique = df[col].nunique()\n",
        "    print(f\"{col} Unique Attributes:\",column_unique)\n"
      ]
    },
    {
      "cell_type": "markdown",
      "metadata": {
        "id": "BGPvPqlGus7y"
      },
      "source": [
        "**Insights for unique atttributes**\n",
        "\n",
        "**Columns such as title,director,cast,country,date_added,listed_in,description have a larger number of unique attributes,providing a wide variety of information for analysis,including content details,production of country,and genre**"
      ]
    },
    {
      "cell_type": "markdown",
      "metadata": {
        "id": "6h6kILLAyVMv"
      },
      "source": [
        "Value counts"
      ]
    },
    {
      "cell_type": "code",
      "execution_count": null,
      "metadata": {
        "colab": {
          "base_uri": "https://localhost:8080/"
        },
        "id": "ElHehv6Ayajz",
        "outputId": "fe7d9a99-ee9f-4752-cf2d-2537f2ecae40"
      },
      "outputs": [
        {
          "output_type": "stream",
          "name": "stdout",
          "text": [
            "show_id Value counts : s1       1\n",
            "s5875    1\n",
            "s5869    1\n",
            "Name: show_id, dtype: int64\n",
            "************************************\n",
            "\n",
            "type Value counts : Movie      6131\n",
            "TV Show    2676\n",
            "Name: type, dtype: int64\n",
            "************************************\n",
            "\n",
            "title Value counts : Dick Johnson Is Dead                1\n",
            "Ip Man 2                            1\n",
            "Hannibal Buress: Comedy Camisado    1\n",
            "Name: title, dtype: int64\n",
            "************************************\n",
            "\n",
            "director Value counts : Unknown                   2634\n",
            "Rajiv Chilaka               19\n",
            "Raúl Campos, Jan Suter      18\n",
            "Name: director, dtype: int64\n",
            "************************************\n",
            "\n",
            "cast Value counts : Unknown                                                                                    825\n",
            "David Attenborough                                                                          19\n",
            "Vatsal Dubey, Julie Tejwani, Rupa Bhimani, Jigna Bhardwaj, Rajesh Kava, Mousam, Swapnil     14\n",
            "Name: cast, dtype: int64\n",
            "************************************\n",
            "\n",
            "country Value counts : United States    2818\n",
            "India             972\n",
            "Unknown           831\n",
            "Name: country, dtype: int64\n",
            "************************************\n",
            "\n",
            "date_added Value counts : January 1, 2020     109\n",
            "November 1, 2019     89\n",
            "March 1, 2018        75\n",
            "Name: date_added, dtype: int64\n",
            "************************************\n",
            "\n",
            "release_year Value counts : 2018    1147\n",
            "2017    1032\n",
            "2019    1030\n",
            "Name: release_year, dtype: int64\n",
            "************************************\n",
            "\n",
            "rating Value counts : TV-MA    3207\n",
            "TV-14    2160\n",
            "TV-PG     863\n",
            "Name: rating, dtype: int64\n",
            "************************************\n",
            "\n",
            "duration Value counts : 1 Season     1793\n",
            "2 Seasons     425\n",
            "3 Seasons     199\n",
            "Name: duration, dtype: int64\n",
            "************************************\n",
            "\n",
            "listed_in Value counts : Dramas, International Movies    362\n",
            "Documentaries                   359\n",
            "Stand-Up Comedy                 334\n",
            "Name: listed_in, dtype: int64\n",
            "************************************\n",
            "\n",
            "description Value counts : Paranormal activity at a lush, abandoned property alarms a group eager to redevelop the site, but the eerie events may not be as unearthly as they think.    4\n",
            "Challenged to compose 100 songs before he can marry the girl he loves, a tortured but passionate singer-songwriter embarks on a poignant musical journey.    3\n",
            "A surly septuagenarian gets another chance at her 20s after having her photo snapped at a studio that magically takes 50 years off her life.                 3\n",
            "Name: description, dtype: int64\n",
            "************************************\n",
            "\n"
          ]
        }
      ],
      "source": [
        "column_to_use=df.columns\n",
        "\n",
        "for col in column_to_use:\n",
        "  column_counts=df[col].value_counts().head(3)\n",
        "  print(f\"{col} Value counts :\",column_counts)\n",
        "  print(\"************************************\")\n",
        "  print()"
      ]
    },
    {
      "cell_type": "markdown",
      "metadata": {
        "id": "3r1BEKBtwd98"
      },
      "source": [
        "**Insights for Value counts:**\n",
        "\n",
        "**1.It shows that the number of movies released is double the number of TV shows released.**\n",
        "\n",
        "**2.\"Even though the United States has released more movies and TV shows compared to other countries, Indian director Rajiv Chilaka has a larger combined portfolio of movies and TV shows than any single director from the United States**"
      ]
    },
    {
      "cell_type": "markdown",
      "metadata": {
        "id": "AGjM_juLzU55"
      },
      "source": [
        "**4.Visual Analysis - Univariate, Bivariate after pre-processing of the data**\n",
        "\n",
        "**Note: Pre-processing involves unnesting of the data in columns like Actor, Director, Country**\n"
      ]
    },
    {
      "cell_type": "code",
      "execution_count": null,
      "metadata": {
        "colab": {
          "base_uri": "https://localhost:8080/"
        },
        "id": "IfqyZYeNuiWr",
        "outputId": "113fc113-d42b-49c5-b6fb-837390c171a7"
      },
      "outputs": [
        {
          "output_type": "stream",
          "name": "stdout",
          "text": [
            "0                       Unknown\n",
            "1                    Ama Qamata\n",
            "2                   Khosi Ngema\n",
            "3                 Gail Mabalane\n",
            "4                Thabang Molaba\n",
            "                  ...          \n",
            "64946          Manish Chaudhary\n",
            "64947              Meghna Malik\n",
            "64948             Malkeet Rauni\n",
            "64949            Anita Shabdish\n",
            "64950     Chittaranjan Tripathy\n",
            "Name: cast, Length: 64951, dtype: object\n"
          ]
        }
      ],
      "source": [
        "#unnesting cast column(Actor)\n",
        "df = df.dropna(subset=['cast'])\n",
        "df['cast'] = df['cast'].str.split(',')\n",
        "df_exploded = df.explode('cast')\n",
        "df_exploded = df_exploded.reset_index(drop=True)\n",
        "print(df_exploded['cast'])"
      ]
    },
    {
      "cell_type": "code",
      "execution_count": null,
      "metadata": {
        "colab": {
          "base_uri": "https://localhost:8080/"
        },
        "id": "3-Q1Rniv26Ce",
        "outputId": "89f1d0e7-647b-453f-8d5d-027511cebb88"
      },
      "outputs": [
        {
          "output_type": "stream",
          "name": "stdout",
          "text": [
            "0       Kirsten Johnson\n",
            "1               Unknown\n",
            "2       Julien Leclercq\n",
            "3               Unknown\n",
            "4               Unknown\n",
            "             ...       \n",
            "9607      David Fincher\n",
            "9608            Unknown\n",
            "9609    Ruben Fleischer\n",
            "9610       Peter Hewitt\n",
            "9611        Mozez Singh\n",
            "Name: director, Length: 9612, dtype: object\n"
          ]
        }
      ],
      "source": [
        "#unnesting director column(Directors)\n",
        "df = df.dropna(subset=['director'])\n",
        "df['director'] = df['director'].str.split(',')\n",
        "df_exploded = df.explode('director')\n",
        "df_exploded = df_exploded.reset_index(drop=True)\n",
        "print(df_exploded['director'])"
      ]
    },
    {
      "cell_type": "code",
      "execution_count": null,
      "metadata": {
        "colab": {
          "base_uri": "https://localhost:8080/"
        },
        "id": "DsHvkr6D3u4z",
        "outputId": "fa5ca348-adec-4786-c951-115189c862ce"
      },
      "outputs": [
        {
          "output_type": "stream",
          "name": "stdout",
          "text": [
            "0        United States\n",
            "1         South Africa\n",
            "2              Unknown\n",
            "3              Unknown\n",
            "4                India\n",
            "             ...      \n",
            "10845    United States\n",
            "10846          Unknown\n",
            "10847    United States\n",
            "10848    United States\n",
            "10849            India\n",
            "Name: country, Length: 10850, dtype: object\n"
          ]
        }
      ],
      "source": [
        "#unnesting country column(Countries)\n",
        "df = df.dropna(subset=['country'])\n",
        "df['country'] = df['country'].str.split(',')\n",
        "df_exploded = df.explode('country')\n",
        "df_exploded = df_exploded.reset_index(drop=True)\n",
        "print(df_exploded['country'])"
      ]
    },
    {
      "cell_type": "markdown",
      "metadata": {
        "id": "iqVFOelRFSPT"
      },
      "source": [
        "**4.1 For continuous variable(s): Distplot**\n"
      ]
    },
    {
      "cell_type": "code",
      "execution_count": null,
      "metadata": {
        "colab": {
          "base_uri": "https://localhost:8080/",
          "height": 755
        },
        "id": "syl08rXpcLt-",
        "outputId": "322634cd-74f4-4ed6-f810-fdfe22c18b26"
      },
      "outputs": [
        {
          "output_type": "stream",
          "name": "stderr",
          "text": [
            "<ipython-input-30-b4d1c5ac0d4f>:3: UserWarning: \n",
            "\n",
            "`distplot` is a deprecated function and will be removed in seaborn v0.14.0.\n",
            "\n",
            "Please adapt your code to use either `displot` (a figure-level function with\n",
            "similar flexibility) or `histplot` (an axes-level function for histograms).\n",
            "\n",
            "For a guide to updating your code to use the new functions, please see\n",
            "https://gist.github.com/mwaskom/de44147ed2974457ad6372750bbe5751\n",
            "\n",
            "  sns.distplot(df['release_year'], kde=True,color=\"red\")\n"
          ]
        },
        {
          "output_type": "display_data",
          "data": {
            "text/plain": [
              "<Figure size 1000x600 with 1 Axes>"
            ],
            "image/png": "[encoded data removed]"
          },
          "metadata": {}
        }
      ],
      "source": [
        "#continuous variable(s): Distplot for univariate analysis\n",
        "plt.figure(figsize=(10, 6))\n",
        "sns.distplot(df['release_year'], kde=True,color=\"red\")\n",
        "plt.xlabel('Release Year')\n",
        "plt.ylabel('Frequency')\n",
        "plt.title('Distribution Plot of Release Year')\n",
        "plt.show()"
      ]
    },
    {
      "cell_type": "code",
      "execution_count": null,
      "metadata": {
        "colab": {
          "base_uri": "https://localhost:8080/",
          "height": 280
        },
        "id": "FXnKWwFodHWZ",
        "outputId": "1666c572-e450-40e6-f93b-23d921df67f3"
      },
      "outputs": [
        {
          "output_type": "display_data",
          "data": {
            "text/plain": [
              "<Figure size 3000x600 with 1 Axes>"
            ],
            "image/png": "[encoded data removed]"
          },
          "metadata": {}
        }
      ],
      "source": [
        "#continuous variable(s): Countplot for univariate analysis\n",
        "plt.figure(figsize=(30, 6))\n",
        "sns.countplot(data=df, x='release_year',color=\"blue\")\n",
        "plt.xlabel('Release Year')\n",
        "plt.ylabel('Count')\n",
        "plt.title('Count of Movies and Tv shows Released Each Year')\n",
        "plt.xticks(rotation=90)\n",
        "plt.show()"
      ]
    },
    {
      "cell_type": "code",
      "execution_count": null,
      "metadata": {
        "colab": {
          "base_uri": "https://localhost:8080/",
          "height": 564
        },
        "id": "9SeGQJDAjl_4",
        "outputId": "0c776d34-6b68-4794-9cc0-32346933d0e4"
      },
      "outputs": [
        {
          "output_type": "display_data",
          "data": {
            "text/plain": [
              "<Figure size 1000x600 with 1 Axes>"
            ],
            "image/png": "[encoded data removed]"
          },
          "metadata": {}
        }
      ],
      "source": [
        "##continuous variable(s): Histogram for univariate analysis\n",
        "plt.figure(figsize=(10, 6))\n",
        "sns.histplot(data=df,x=\"release_year\", kde=True)\n",
        "plt.xlabel('Values')\n",
        "plt.ylabel('Frequency')\n",
        "plt.title('Histogram for Continuous Variable')\n",
        "plt.show()"
      ]
    },
    {
      "cell_type": "markdown",
      "metadata": {
        "id": "Wsq-Y_tA0a_o"
      },
      "source": [
        "**Insights for For continuous variable(s): Distplot, countplot, histogram for univariate analysis**\n",
        "\n",
        "**1.It is observed that the production of movies and TV shows started growing from 2012, and every year,it continued to increase, except for 2013 and 2021.**\n",
        "\n",
        "**2.Due to the COVID-19 pandemic, there were lockdowns all over the world, which resulted in a sudden decline in the number of movies and TV shows being released(2020 -->436 but in 2021-->315 only)**"
      ]
    },
    {
      "cell_type": "markdown",
      "metadata": {
        "id": "1ncVQ8F1HnFm"
      },
      "source": [
        "**4.2 For categorical variable(s):** **Boxplot**\n"
      ]
    },
    {
      "cell_type": "code",
      "execution_count": null,
      "metadata": {
        "colab": {
          "base_uri": "https://localhost:8080/",
          "height": 564
        },
        "id": "N0BMcznrJTh3",
        "outputId": "3a0bb8a6-d377-4ef9-fa88-ff3a1acc9dc6"
      },
      "outputs": [
        {
          "output_type": "display_data",
          "data": {
            "text/plain": [
              "<Figure size 1000x600 with 1 Axes>"
            ],
            "image/png": "[encoded data removed]"
          },
          "metadata": {}
        }
      ],
      "source": [
        "#Univariate analysis:Boxplot\n",
        "plt.figure(figsize=(10, 6))\n",
        "sns.boxplot(x=\"release_year\", data=df)\n",
        "plt.xlabel('Release Year')\n",
        "plt.title('Boxplot of Release Year')\n",
        "plt.show()"
      ]
    },
    {
      "cell_type": "code",
      "execution_count": null,
      "metadata": {
        "colab": {
          "base_uri": "https://localhost:8080/",
          "height": 564
        },
        "id": "Cui4wZauoL9H",
        "outputId": "6f79ee46-ef42-49fa-94c2-3746858fc3a6"
      },
      "outputs": [
        {
          "output_type": "display_data",
          "data": {
            "text/plain": [
              "<Figure size 1000x600 with 1 Axes>"
            ],
            "image/png": "[encoded data removed]"
          },
          "metadata": {}
        }
      ],
      "source": [
        "#Bivariate analysis:Boxplot\n",
        "plt.figure(figsize=(10, 6))\n",
        "sns.boxplot(x=\"type\", y=\"release_year\",data=df)\n",
        "plt.xlabel('Tv show or Movies')\n",
        "plt.ylabel('Release Year')\n",
        "plt.title('Boxplot of Release Year by Type')\n",
        "plt.show()"
      ]
    },
    {
      "cell_type": "markdown",
      "metadata": {
        "id": "nquhu_bOeMe3"
      },
      "source": [
        "**4.3 For correlation: Heatmaps, Pairplots**\n"
      ]
    },
    {
      "cell_type": "code",
      "execution_count": null,
      "metadata": {
        "colab": {
          "base_uri": "https://localhost:8080/",
          "height": 754
        },
        "id": "hLoHMoZ9W6m4",
        "outputId": "93fd5afd-b126-4f91-c10a-981c0420edbe"
      },
      "outputs": [
        {
          "output_type": "stream",
          "name": "stderr",
          "text": [
            "<ipython-input-35-f9fd06162745>:5: FutureWarning: The default value of numeric_only in DataFrame.corr is deprecated. In a future version, it will default to False. Select only valid columns or specify the value of numeric_only to silence this warning.\n",
            "  sns.heatmap(data=df_numeric.corr(), annot=True,cmap=\"coolwarm\")\n"
          ]
        },
        {
          "output_type": "display_data",
          "data": {
            "text/plain": [
              "<Figure size 1000x800 with 2 Axes>"
            ],
            "image/png": "[encoded data removed]"
          },
          "metadata": {}
        }
      ],
      "source": [
        "# Heatmaps\n",
        "df_numeric = df.drop(columns=[\"show_id\", \"type\", \"title\", \"director\", \"cast\", \"country\", \"date_added\",\"rating\",\"listed_in\", \"description\"])\n",
        "df_numeric[\"date_added\"] = pd.to_datetime(df[\"date_added\"]).dt.year\n",
        "plt.figure(figsize=(10, 8))\n",
        "sns.heatmap(data=df_numeric.corr(), annot=True,cmap=\"coolwarm\")\n",
        "plt.title(\"Correlation Heatmap\")\n",
        "plt.show()"
      ]
    },
    {
      "cell_type": "markdown",
      "metadata": {
        "id": "YnGBfqLBCrOE"
      },
      "source": [
        "**Insights : For correlation: Heatmaps**\n",
        "\n",
        "**1.You can clearly see that the release year and date added do not correlate**"
      ]
    },
    {
      "cell_type": "code",
      "execution_count": null,
      "metadata": {
        "colab": {
          "base_uri": "https://localhost:8080/",
          "height": 448
        },
        "id": "sWTe3Q1aauNY",
        "outputId": "4997146b-e6ae-46f0-8ce7-056243c440d7"
      },
      "outputs": [
        {
          "output_type": "display_data",
          "data": {
            "text/plain": [
              "<Figure size 1000x800 with 0 Axes>"
            ]
          },
          "metadata": {}
        },
        {
          "output_type": "display_data",
          "data": {
            "text/plain": [
              "<Figure size 400x400 with 2 Axes>"
            ],
            "image/png": "[encoded data removed]"
          },
          "metadata": {}
        }
      ],
      "source": [
        "# Pairplots\n",
        "plt.figure(figsize=(10, 8))\n",
        "sns.pairplot(data=df,vars=[\"release_year\"],height=4)\n",
        "plt.title(\"Pairplot of Release Year by Type\")\n",
        "plt.xlabel(\"Release Year\")\n",
        "plt.ylabel(\"Release Year\")\n",
        "plt.show()"
      ]
    },
    {
      "cell_type": "markdown",
      "metadata": {
        "id": "p9rb4tFVfXXl"
      },
      "source": [
        "**5. Missing Value & Outlier check**"
      ]
    },
    {
      "cell_type": "markdown",
      "metadata": {
        "id": "V_vqJ2mprJEh"
      },
      "source": [
        "**Missing Value**"
      ]
    },
    {
      "cell_type": "code",
      "execution_count": null,
      "metadata": {
        "colab": {
          "base_uri": "https://localhost:8080/"
        },
        "id": "wPaoiFmAfaEf",
        "outputId": "72d41f6e-d3f6-41e1-a369-760d61ec8a3f"
      },
      "outputs": [
        {
          "output_type": "stream",
          "name": "stdout",
          "text": [
            "show_id          0\n",
            "type             0\n",
            "title            0\n",
            "director         0\n",
            "cast             0\n",
            "country          0\n",
            "date_added      10\n",
            "release_year     0\n",
            "rating           4\n",
            "duration         3\n",
            "listed_in        0\n",
            "description      0\n",
            "dtype: int64\n"
          ]
        }
      ],
      "source": [
        "# Finding the missing values in each column\n",
        "missing_values = df.isnull().sum()\n",
        "print(missing_values)\n",
        "#print(df.isnull().sum())"
      ]
    },
    {
      "cell_type": "markdown",
      "metadata": {
        "id": "8ote-2utq_c8"
      },
      "source": [
        "**Outlier check**\n"
      ]
    },
    {
      "cell_type": "code",
      "execution_count": null,
      "metadata": {
        "colab": {
          "base_uri": "https://localhost:8080/"
        },
        "id": "rOtw1OV2qgw3",
        "outputId": "74621e6c-7db8-4136-f9af-e535fb80162e"
      },
      "outputs": [
        {
          "output_type": "stream",
          "name": "stdout",
          "text": [
            "     show_id   type              title            director  \\\n",
            "7         s8  Movie            Sankofa      [Haile Gerima]   \n",
            "22       s23  Movie    Avvai Shanmughi    [K.S. Ravikumar]   \n",
            "24       s25  Movie              Jeans        [S. Shankar]   \n",
            "26       s27  Movie     Minsara Kanavu       [Rajiv Menon]   \n",
            "41       s42  Movie               Jaws  [Steven Spielberg]   \n",
            "...      ...    ...                ...                 ...   \n",
            "8764   s8765  Movie         Wyatt Earp   [Lawrence Kasdan]   \n",
            "8766   s8767  Movie                XXx         [Rob Cohen]   \n",
            "8768   s8769  Movie  Y Tu Mamá También    [Alfonso Cuarón]   \n",
            "8770   s8771  Movie            Yaadein      [Subhash Ghai]   \n",
            "8792   s8793  Movie        Young Tiger            [Mu Chu]   \n",
            "\n",
            "                                                   cast  \\\n",
            "7     [Kofi Ghanaba,  Oyafunmike Ogunlano,  Alexandr...   \n",
            "22    [Kamal Hassan,  Meena,  Gemini Ganesan,  Heera...   \n",
            "24    [Prashanth,  Aishwarya Rai Bachchan,  Sri Laks...   \n",
            "26    [Arvind Swamy,  Kajol,  Prabhu Deva,  Nassar, ...   \n",
            "41    [Roy Scheider,  Robert Shaw,  Richard Dreyfuss...   \n",
            "...                                                 ...   \n",
            "8764  [Kevin Costner,  Dennis Quaid,  Gene Hackman, ...   \n",
            "8766  [Vin Diesel,  Asia Argento,  Marton Csokas,  S...   \n",
            "8768  [Maribel Verdú,  Gael García Bernal,  Diego Lu...   \n",
            "8770  [Jackie Shroff,  Hrithik Roshan,  Kareena Kapo...   \n",
            "8792  [Qiu Yuen,  Charlie Chin,  Jackie Chan,  Hu Ch...   \n",
            "\n",
            "                                                country          date_added  \\\n",
            "7     [United States,  Ghana,  Burkina Faso,  United...  September 24, 2021   \n",
            "22                                            [Unknown]  September 21, 2021   \n",
            "24                                              [India]  September 21, 2021   \n",
            "26                                            [Unknown]  September 21, 2021   \n",
            "41                                      [United States]  September 16, 2021   \n",
            "...                                                 ...                 ...   \n",
            "8764                                    [United States]     January 1, 2020   \n",
            "8766                                    [United States]     January 1, 2019   \n",
            "8768                                           [Mexico]        June 1, 2017   \n",
            "8770                                            [India]       March 1, 2018   \n",
            "8792                                        [Hong Kong]    November 1, 2016   \n",
            "\n",
            "      release_year rating duration  \\\n",
            "7             1993  TV-MA  125 min   \n",
            "22            1996  TV-PG  161 min   \n",
            "24            1998  TV-14  166 min   \n",
            "26            1997  TV-PG  147 min   \n",
            "41            1975     PG  124 min   \n",
            "...            ...    ...      ...   \n",
            "8764          1994  PG-13  191 min   \n",
            "8766          2002  PG-13  124 min   \n",
            "8768          2001      R  106 min   \n",
            "8770          2001  TV-14  171 min   \n",
            "8792          1973     NR   81 min   \n",
            "\n",
            "                                             listed_in  \\\n",
            "7     Dramas, Independent Movies, International Movies   \n",
            "22                      Comedies, International Movies   \n",
            "24     Comedies, International Movies, Romantic Movies   \n",
            "26    Comedies, International Movies, Music & Musicals   \n",
            "41          Action & Adventure, Classic Movies, Dramas   \n",
            "...                                                ...   \n",
            "8764                                Action & Adventure   \n",
            "8766                 Action & Adventure, Sports Movies   \n",
            "8768  Dramas, Independent Movies, International Movies   \n",
            "8770     Dramas, International Movies, Romantic Movies   \n",
            "8792          Action & Adventure, International Movies   \n",
            "\n",
            "                                            description  \n",
            "7     On a photo shoot in Ghana, an American model s...  \n",
            "22    Newly divorced and denied visitation rights wi...  \n",
            "24    When the father of the man she loves insists t...  \n",
            "26    A tangled love triangle ensues when a man fall...  \n",
            "41    When an insatiable great white shark terrorize...  \n",
            "...                                                 ...  \n",
            "8764  Legendary lawman Wyatt Earp is continually at ...  \n",
            "8766  A notorious underground rush-seeker deemed unt...  \n",
            "8768  When rich teens Tenoch and Julio meet the allu...  \n",
            "8770  Two young lovers set out to overcome the obsta...  \n",
            "8792  Aided only by a tough female police officer, a...  \n",
            "\n",
            "[719 rows x 12 columns]\n"
          ]
        }
      ],
      "source": [
        "Q1 = df['release_year'].quantile(0.25)\n",
        "Q3 = df['release_year'].quantile(0.75)\n",
        "IQR = Q3 - Q1\n",
        "lower_bound = Q1 - 1.5 * IQR\n",
        "upper_bound = Q3 + 1.5 * IQR\n",
        "\n",
        "outliers = df[(df['release_year'] < lower_bound) | (df['release_year'] > upper_bound)]\n",
        "print(outliers)"
      ]
    },
    {
      "cell_type": "markdown",
      "metadata": {
        "id": "OyFRY6WkG3Le"
      },
      "source": [
        "**Insight outlier check :**\n",
        "\n",
        "**Some movies have 'Unknown' as the country value, and the dataset includes movies from various countries like Ghana, Burkina Faso, Hong Kong, and Mexico among the outliers, reflecting the diversity of the movie collection**"
      ]
    },
    {
      "cell_type": "markdown",
      "metadata": {
        "id": "RXVH-h7nH0mj"
      },
      "source": [
        "**6.Insights based on Non-Graphical and Visual Analysis**\n"
      ]
    },
    {
      "cell_type": "markdown",
      "metadata": {
        "id": "Ad-PXlZjH8gz"
      },
      "source": [
        "**6.1 Comments on the range of attributes**"
      ]
    },
    {
      "cell_type": "code",
      "execution_count": null,
      "metadata": {
        "id": "TdYINJqhIZb9",
        "colab": {
          "base_uri": "https://localhost:8080/"
        },
        "outputId": "82c72dd5-f53e-40de-afc9-f5682cb262b2"
      },
      "outputs": [
        {
          "output_type": "stream",
          "name": "stdout",
          "text": [
            "show_id           object\n",
            "type            category\n",
            "title             object\n",
            "director          object\n",
            "cast              object\n",
            "country           object\n",
            "date_added        object\n",
            "release_year       int64\n",
            "rating            object\n",
            "duration          object\n",
            "listed_in         object\n",
            "description       object\n",
            "dtype: object\n"
          ]
        }
      ],
      "source": [
        "#Understanding the types of data in each attribute\n",
        "print(df.dtypes)"
      ]
    },
    {
      "cell_type": "code",
      "execution_count": null,
      "metadata": {
        "id": "mgvH3YI8IgW2",
        "colab": {
          "base_uri": "https://localhost:8080/"
        },
        "outputId": "15b199bb-0193-4bf5-fd98-7ab493e384ae"
      },
      "outputs": [
        {
          "output_type": "stream",
          "name": "stdout",
          "text": [
            "Release year range: (1925, 2021)\n"
          ]
        }
      ],
      "source": [
        "# The range of values for specific attributes(release_year)\n",
        "release_year_range = df['release_year'].min(), df['release_year'].max()\n",
        "print(\"Release year range:\", release_year_range)"
      ]
    },
    {
      "cell_type": "markdown",
      "metadata": {
        "id": "8ILkAYuTHZ_t"
      },
      "source": [
        "**Insights for range of values for release_year attributes**\n",
        "\n",
        "**Release year range from 1925, 2021**"
      ]
    },
    {
      "cell_type": "code",
      "execution_count": null,
      "metadata": {
        "id": "Fv5rdtDHIm5K",
        "colab": {
          "base_uri": "https://localhost:8080/"
        },
        "outputId": "10f72f94-259d-4e2d-bb63-1eab157fb9bb"
      },
      "outputs": [
        {
          "output_type": "stream",
          "name": "stdout",
          "text": [
            "Missing values:\n",
            "show_id          0\n",
            "type             0\n",
            "title            0\n",
            "director         0\n",
            "cast             0\n",
            "country          0\n",
            "date_added      10\n",
            "release_year     0\n",
            "rating           4\n",
            "duration         3\n",
            "listed_in        0\n",
            "description      0\n",
            "dtype: int64\n"
          ]
        }
      ],
      "source": [
        "# Identify any missing or null values in the dataset\n",
        "missing_values = df.isnull().sum()\n",
        "print(\"Missing values:\")\n",
        "print(missing_values)"
      ]
    },
    {
      "cell_type": "code",
      "execution_count": null,
      "metadata": {
        "id": "rVyU4bv7Iq6H",
        "colab": {
          "base_uri": "https://localhost:8080/"
        },
        "outputId": "b9e86285-6af4-48b1-db44-ca04ae38717a"
      },
      "outputs": [
        {
          "output_type": "stream",
          "name": "stdout",
          "text": [
            "Unique content ratings: ['PG-13' 'TV-MA' 'PG' 'TV-14' 'TV-PG' 'TV-Y' 'TV-Y7' 'R' 'TV-G' 'G'\n",
            " 'NC-17' '74 min' '84 min' '66 min' 'NR' nan 'TV-Y7-FV' 'UR']\n"
          ]
        }
      ],
      "source": [
        "# Determine the unique values for categorical attributes\n",
        "unique_ratings = df['rating'].unique()\n",
        "print(\"Unique content ratings:\", unique_ratings)"
      ]
    },
    {
      "cell_type": "code",
      "execution_count": null,
      "metadata": {
        "id": "vayjHxCtIrtA",
        "colab": {
          "base_uri": "https://localhost:8080/"
        },
        "outputId": "65fb2c1a-7fe8-4e72-d3b5-dd90cd70610c"
      },
      "outputs": [
        {
          "output_type": "stream",
          "name": "stdout",
          "text": [
            "Movie duration distribution:\n",
            "1 Season     1793\n",
            "2 Seasons     425\n",
            "3 Seasons     199\n",
            "90 min        152\n",
            "94 min        146\n",
            "             ... \n",
            "16 min          1\n",
            "186 min         1\n",
            "193 min         1\n",
            "189 min         1\n",
            "191 min         1\n",
            "Name: duration, Length: 220, dtype: int64\n"
          ]
        }
      ],
      "source": [
        "# Analyze the distribution of data in certain columns\n",
        "duration_distribution = df['duration'].value_counts()\n",
        "print(\"Movie duration distribution:\")\n",
        "print(duration_distribution)"
      ]
    },
    {
      "cell_type": "markdown",
      "metadata": {
        "id": "ZYCOylDnIBEB"
      },
      "source": [
        "**Insights for duration of the movies and tv shows**\n",
        "\n",
        "**Most of the TV shows have only 1 season, and most of the movies have a runtime of only 90 minutes**"
      ]
    },
    {
      "cell_type": "code",
      "execution_count": null,
      "metadata": {
        "id": "buXO0LdPJzh0",
        "colab": {
          "base_uri": "https://localhost:8080/"
        },
        "outputId": "6ea1a71a-ac1b-4f7f-d003-871ea49f2a6d"
      },
      "outputs": [
        {
          "output_type": "stream",
          "name": "stdout",
          "text": [
            "Mean release year: 2014.18\n",
            "Median release year: 2017.0\n"
          ]
        }
      ],
      "source": [
        "# Calculating the mean and median of the release_year column\n",
        "mean_release_year = df['release_year'].mean().round(2)\n",
        "median_release_year = df['release_year'].median().round(2)\n",
        "print(\"Mean release year:\", mean_release_year)\n",
        "print(\"Median release year:\", median_release_year)"
      ]
    },
    {
      "cell_type": "markdown",
      "metadata": {
        "id": "QXef7RwdI-MG"
      },
      "source": [
        "**Insights for mean and median of the release_year :**\n",
        "\n",
        "**The average release year was 2014 and the central tendecy release year was 2017**"
      ]
    },
    {
      "cell_type": "markdown",
      "metadata": {
        "id": "kBgAgpRHKKH_"
      },
      "source": [
        "**6.2 Comments on the distribution of the variables and relationship between them**"
      ]
    },
    {
      "cell_type": "code",
      "execution_count": null,
      "metadata": {
        "id": "t6G1NDH_KQF2",
        "colab": {
          "base_uri": "https://localhost:8080/"
        },
        "outputId": "5209555b-a8d7-469e-b83f-fa6733d70fa5"
      },
      "outputs": [
        {
          "output_type": "stream",
          "name": "stdout",
          "text": [
            "Type distribution:\n",
            "Movie      6131\n",
            "TV Show    2676\n",
            "Name: type, dtype: int64\n"
          ]
        }
      ],
      "source": [
        "# Distribution of type\n",
        "type_distribution = df['type'].value_counts()\n",
        "print(\"Type distribution:\")\n",
        "print(type_distribution)"
      ]
    },
    {
      "cell_type": "markdown",
      "metadata": {
        "id": "eYySHSnzJyk4"
      },
      "source": [
        "**Insights for \"type\" :**\n",
        "\n",
        "**The content variety in the dataset is represented by a larger number of movies compared to TV shows, providing users with a broader range of choices for entertainment.**"
      ]
    },
    {
      "cell_type": "code",
      "execution_count": null,
      "metadata": {
        "id": "WiwShK7bK71E",
        "colab": {
          "base_uri": "https://localhost:8080/"
        },
        "outputId": "295630a7-f03c-429d-984f-65d0db1445f4"
      },
      "outputs": [
        {
          "output_type": "stream",
          "name": "stdout",
          "text": [
            "Top 10 countries with the most content:\n",
            "United States     2818\n",
            "India              972\n",
            "Unknown            831\n",
            "United Kingdom     419\n",
            "Japan              245\n",
            "Name: country, dtype: int64\n"
          ]
        }
      ],
      "source": [
        "# Distribution of country\n",
        "df['country'] = df['country'].apply(lambda x: ', '.join(x) if isinstance(x, list) else x)\n",
        "top_countries = df['country'].value_counts().nlargest(5)\n",
        "print(\"Top 10 countries with the most content:\")\n",
        "print(top_countries)"
      ]
    },
    {
      "cell_type": "markdown",
      "metadata": {
        "id": "538O9mX7KV-5"
      },
      "source": [
        "**Insights for distribution of country :**\n",
        "\n",
        "**The United States is the leading contributor to the content, with 2818 content items,indicating its significant presence in the entertainment industry.\n",
        "India holds the second position with 972 content items**"
      ]
    },
    {
      "cell_type": "code",
      "execution_count": null,
      "metadata": {
        "id": "6DtahiwYLBzg",
        "colab": {
          "base_uri": "https://localhost:8080/"
        },
        "outputId": "f26bd75b-9a5b-4397-f87c-3d6af890e2b0"
      },
      "outputs": [
        {
          "output_type": "stream",
          "name": "stdout",
          "text": [
            "Release year distribution:\n",
            "2018    1147\n",
            "2017    1032\n",
            "2019    1030\n",
            "2020     953\n",
            "2016     902\n",
            "Name: release_year, dtype: int64\n"
          ]
        }
      ],
      "source": [
        "# Distribution of release_year\n",
        "release_year_distribution = df['release_year'].value_counts().sort_index().nlargest(5)\n",
        "print(\"Release year distribution:\")\n",
        "print(release_year_distribution)"
      ]
    },
    {
      "cell_type": "markdown",
      "metadata": {
        "id": "KmNADOdOK40x"
      },
      "source": [
        "**Insights:Distribution of release year**\n",
        "\n",
        "**The years 2018, 2017, and 2019 had the highest number of content releases in the dataset,with 1147, 1032, and 1030 release suggesting a significant concentration of content production during those years**"
      ]
    },
    {
      "cell_type": "code",
      "execution_count": null,
      "metadata": {
        "id": "s7ZLPfvOLPV1",
        "colab": {
          "base_uri": "https://localhost:8080/"
        },
        "outputId": "04f3e6e9-972b-440d-fe97-1b10c20c0f26"
      },
      "outputs": [
        {
          "output_type": "stream",
          "name": "stdout",
          "text": [
            "Relationship between 'type' and 'rating':\n",
            "type     rating  \n",
            "Movie    TV-MA       2062\n",
            "         TV-14       1427\n",
            "         R            797\n",
            "         TV-PG        540\n",
            "         PG-13        490\n",
            "         PG           287\n",
            "         TV-Y7        139\n",
            "         TV-Y         131\n",
            "         TV-G         126\n",
            "         NR            75\n",
            "         G             41\n",
            "         TV-Y7-FV       5\n",
            "         NC-17          3\n",
            "         UR             3\n",
            "         66 min         1\n",
            "         74 min         1\n",
            "         84 min         1\n",
            "TV Show  TV-MA       1145\n",
            "         TV-14        733\n",
            "         TV-PG        323\n",
            "         TV-Y7        195\n",
            "         TV-Y         176\n",
            "         TV-G          94\n",
            "         NR             5\n",
            "         R              2\n",
            "         TV-Y7-FV       1\n",
            "Name: rating, dtype: int64\n"
          ]
        }
      ],
      "source": [
        "# Relationship between type and rating\n",
        "type_rating_relationship = df.groupby('type')['rating'].value_counts()\n",
        "print(\"Relationship between 'type' and 'rating':\")\n",
        "print(type_rating_relationship)"
      ]
    },
    {
      "cell_type": "markdown",
      "metadata": {
        "id": "zJwRYCeBLh3p"
      },
      "source": [
        "**Insight for releationship between type and rating :**\n",
        "\n",
        "**The most common rating for Movies is \"TV-MA\" with 2062 entries, while for TV Shows,it is also \"TV-MA\" with 1145 entries, indicating that this rating is frequently used across both types of content**"
      ]
    },
    {
      "cell_type": "code",
      "execution_count": null,
      "metadata": {
        "id": "TxPcSTWANL4u",
        "colab": {
          "base_uri": "https://localhost:8080/"
        },
        "outputId": "af14f809-e61e-496d-87b0-c9c9f48db445"
      },
      "outputs": [
        {
          "output_type": "stream",
          "name": "stdout",
          "text": [
            "Average release year by type:\n",
            "type     release_year\n",
            "Movie    2017            767\n",
            "         2018            767\n",
            "         2016            658\n",
            "         2019            633\n",
            "         2020            517\n",
            "                        ... \n",
            "TV Show  1979              1\n",
            "         1981              1\n",
            "         1985              1\n",
            "         1989              1\n",
            "         1991              1\n",
            "Name: release_year, Length: 119, dtype: int64\n"
          ]
        }
      ],
      "source": [
        "# Relationship between type and release_year\n",
        "average_release_year_by_type = df.groupby('type')['release_year'].value_counts()\n",
        "print(\"Average release year by type:\")\n",
        "print(average_release_year_by_type)"
      ]
    },
    {
      "cell_type": "markdown",
      "metadata": {
        "id": "3xp0r8L0MHMz"
      },
      "source": [
        "**Insight for Relationship between type and release year :**\n",
        "\n",
        "**The year 2017 had the highest number of content releases for both Movies[767] and TV Shows [204], indicating a significant output of new content during that year.**"
      ]
    },
    {
      "cell_type": "markdown",
      "metadata": {
        "id": "d7sAnS3tNwZW"
      },
      "source": [
        "**6.3 Comments for each univariate and bivariate plot**"
      ]
    },
    {
      "cell_type": "markdown",
      "metadata": {
        "id": "skBJTZv_Oolj"
      },
      "source": [
        "**univariate plot**"
      ]
    },
    {
      "cell_type": "code",
      "execution_count": null,
      "metadata": {
        "id": "MEXcSdAVOqzj",
        "colab": {
          "base_uri": "https://localhost:8080/",
          "height": 456
        },
        "outputId": "4e84ceb7-c4d8-4bf8-955d-314a66bfb21a"
      },
      "outputs": [
        {
          "output_type": "display_data",
          "data": {
            "text/plain": [
              "<Figure size 600x400 with 1 Axes>"
            ],
            "image/png": "[encoded data removed]"
          },
          "metadata": {}
        }
      ],
      "source": [
        "plt.figure(figsize=(6, 4))\n",
        "df['type'].value_counts().plot(kind='bar')\n",
        "plt.xlabel('Type')\n",
        "plt.ylabel('Count')\n",
        "plt.title('Distribution of Content Types (Movies/TV Shows)')\n",
        "plt.show()"
      ]
    },
    {
      "cell_type": "markdown",
      "metadata": {
        "id": "CcpVmobjPqsR"
      },
      "source": [
        "**Bivariate plot**"
      ]
    },
    {
      "cell_type": "code",
      "execution_count": null,
      "metadata": {
        "id": "a8UNyb1HPxaZ",
        "colab": {
          "base_uri": "https://localhost:8080/",
          "height": 564
        },
        "outputId": "78ea77d9-e2f7-466e-fc49-a6db2113ea80"
      },
      "outputs": [
        {
          "output_type": "display_data",
          "data": {
            "text/plain": [
              "<Figure size 1200x600 with 1 Axes>"
            ],
            "image/png": "[encoded data removed]"
          },
          "metadata": {}
        }
      ],
      "source": [
        "plt.figure(figsize=(12, 6))\n",
        "sns.countplot(x='rating', hue='type', data=df)\n",
        "plt.xlabel('Rating')\n",
        "plt.ylabel('Count')\n",
        "plt.title('Number of Movies and TV Shows by Content Rating')\n",
        "plt.legend(title='Type')\n",
        "plt.show()"
      ]
    },
    {
      "cell_type": "markdown",
      "metadata": {
        "id": "THsFL9TMLYFF"
      },
      "source": [
        "**What type of content is available in different countries?**"
      ]
    },
    {
      "cell_type": "markdown",
      "metadata": {
        "id": "ScG4ZJEoQcjJ"
      },
      "source": [
        "**How has the number of movies released per year changed over the last 20-30 years?**\n"
      ]
    },
    {
      "cell_type": "code",
      "execution_count": null,
      "metadata": {
        "id": "YV5zJBo_Smc_",
        "colab": {
          "base_uri": "https://localhost:8080/",
          "height": 564
        },
        "outputId": "5d1aaf16-4d02-4fd6-d8aa-ce0bdad80284"
      },
      "outputs": [
        {
          "output_type": "display_data",
          "data": {
            "text/plain": [
              "<Figure size 1000x600 with 1 Axes>"
            ],
            "image/png": "[encoded data removed]"
          },
          "metadata": {}
        }
      ],
      "source": [
        "# Visual Analysis\n",
        "movies_data = df[df['type'] == 'Movie']\n",
        "current_year = pd.to_datetime('today').year\n",
        "movies_data_last_20_years = movies_data[movies_data['release_year'].between(current_year - 30, current_year - 20)]\n",
        "movies_per_year = movies_data_last_20_years['release_year'].value_counts().sort_index()\n",
        "\n",
        "# Creating the plot\n",
        "plt.figure(figsize=(10, 6))\n",
        "plt.plot(movies_per_year.index, movies_per_year.values)\n",
        "plt.xlabel('Year')\n",
        "plt.ylabel('Number of Movies Released')\n",
        "plt.title('Number of Movies Released Last 20-30 years')\n",
        "plt.grid(True)\n",
        "plt.show()"
      ]
    },
    {
      "cell_type": "code",
      "execution_count": null,
      "metadata": {
        "id": "R98GGvuBsDaJ",
        "colab": {
          "base_uri": "https://localhost:8080/"
        },
        "outputId": "e4da7cb3-49b3-4980-e871-76ad957f50a0"
      },
      "outputs": [
        {
          "output_type": "stream",
          "name": "stdout",
          "text": [
            "Year count\n",
            "1993    24\n",
            "1994    20\n",
            "1995    23\n",
            "1996    21\n",
            "1997    34\n",
            "1998    32\n",
            "1999    32\n",
            "2000    33\n",
            "2001    40\n",
            "2002    44\n",
            "2003    51\n",
            "Name: release_year, dtype: int64\n"
          ]
        }
      ],
      "source": [
        "# Non-Visual Analysis\n",
        "movies_per_year = movies_data_last_20_years['release_year'].value_counts().sort_index()\n",
        "print(\"Year\",\"count\")\n",
        "print(movies_per_year)"
      ]
    },
    {
      "cell_type": "markdown",
      "metadata": {
        "id": "Z78QcjUirjFh"
      },
      "source": [
        "**Insight for the number of movies released per year changed over the last 20-30 years :**\n",
        "\n",
        "**It can be observed that there were fluctuations in the number of movie releases until 2000, with both ups and downs. However from 2001 onwards, there has been a continuous increase in the number of movie releases**"
      ]
    },
    {
      "cell_type": "markdown",
      "metadata": {
        "id": "oEk2Xtfwu4jW"
      },
      "source": [
        "**Comparison of tv shows vs movies**"
      ]
    },
    {
      "cell_type": "code",
      "execution_count": null,
      "metadata": {
        "id": "F7Osmb8KwY0y",
        "colab": {
          "base_uri": "https://localhost:8080/",
          "height": 456
        },
        "outputId": "a8511bd7-d910-4006-e4c2-079b3db3813a"
      },
      "outputs": [
        {
          "output_type": "display_data",
          "data": {
            "text/plain": [
              "<Figure size 600x400 with 1 Axes>"
            ],
            "image/png": "[encoded data removed]"
          },
          "metadata": {}
        }
      ],
      "source": [
        "# Visual Analysis\n",
        "plt.figure(figsize=(6, 4))\n",
        "df['type'].value_counts().plot(kind='bar')\n",
        "plt.xlabel('Type')\n",
        "plt.ylabel('Count')\n",
        "plt.title('Distribution of Content Types (Movies/TV Shows)')\n",
        "plt.show()"
      ]
    },
    {
      "cell_type": "code",
      "execution_count": null,
      "metadata": {
        "id": "jt6OBh8HvC7n",
        "colab": {
          "base_uri": "https://localhost:8080/"
        },
        "outputId": "daf87f2f-6824-4ad2-d4b2-7ee4cd20a53b"
      },
      "outputs": [
        {
          "output_type": "stream",
          "name": "stdout",
          "text": [
            "Number of Movies:  6131\n",
            "Number of TV Shows:  2676\n"
          ]
        }
      ],
      "source": [
        "# Non-Visual Analysis\n",
        "movies_and_tv_shows = df[df['type'].isin(['Movie', 'TV Show'])]\n",
        "movies_and_tv_shows_counts = movies_and_tv_shows['type'].value_counts()\n",
        "print(\"Number of Movies: \", movies_and_tv_shows_counts['Movie'])\n",
        "print(\"Number of TV Shows: \", movies_and_tv_shows_counts['TV Show'])"
      ]
    },
    {
      "cell_type": "markdown",
      "metadata": {
        "id": "2ic0qGw-xG5z"
      },
      "source": [
        "**What is the best time to launch a TV show?**"
      ]
    },
    {
      "cell_type": "code",
      "execution_count": null,
      "metadata": {
        "id": "khpg0j4M87tt"
      },
      "outputs": [],
      "source": [
        "# Assuming you already have the DataFrame 'df'\n",
        "tv_data = df[df['type'] == 'TV Show']"
      ]
    },
    {
      "cell_type": "code",
      "execution_count": null,
      "metadata": {
        "id": "jEFwTYoR9HRo",
        "colab": {
          "base_uri": "https://localhost:8080/"
        },
        "outputId": "1aa645d3-0724-421a-871f-53e706a0c921"
      },
      "outputs": [
        {
          "output_type": "stream",
          "name": "stderr",
          "text": [
            "<ipython-input-57-660c4440a2ed>:1: SettingWithCopyWarning: \n",
            "A value is trying to be set on a copy of a slice from a DataFrame.\n",
            "Try using .loc[row_indexer,col_indexer] = value instead\n",
            "\n",
            "See the caveats in the documentation: https://pandas.pydata.org/pandas-docs/stable/user_guide/indexing.html#returning-a-view-versus-a-copy\n",
            "  tv_data['date_added'] = pd.to_datetime(tv_data['date_added'])\n",
            "<ipython-input-57-660c4440a2ed>:2: SettingWithCopyWarning: \n",
            "A value is trying to be set on a copy of a slice from a DataFrame.\n",
            "Try using .loc[row_indexer,col_indexer] = value instead\n",
            "\n",
            "See the caveats in the documentation: https://pandas.pydata.org/pandas-docs/stable/user_guide/indexing.html#returning-a-view-versus-a-copy\n",
            "  tv_data['month_added'] = tv_data['date_added'].dt.month\n"
          ]
        }
      ],
      "source": [
        "tv_data['date_added'] = pd.to_datetime(tv_data['date_added'])\n",
        "tv_data['month_added'] = tv_data['date_added'].dt.month"
      ]
    },
    {
      "cell_type": "code",
      "execution_count": null,
      "metadata": {
        "id": "Qp63IQqf9-zE",
        "colab": {
          "base_uri": "https://localhost:8080/",
          "height": 472
        },
        "outputId": "27e8d44d-695d-4b57-a5f6-463ba956d6f2"
      },
      "outputs": [
        {
          "output_type": "display_data",
          "data": {
            "text/plain": [
              "<Figure size 640x480 with 1 Axes>"
            ],
            "image/png": "[encoded data removed]"
          },
          "metadata": {}
        }
      ],
      "source": [
        "# Number of TV shows added each month\n",
        "monthly_counts = tv_data['month_added'].value_counts().sort_index()\n",
        "plt.bar(monthly_counts.index, monthly_counts.values)\n",
        "plt.xlabel('Month')\n",
        "plt.ylabel('Number of TV Shows')\n",
        "plt.title('Number of TV Shows Added Each Month')\n",
        "plt.xticks(range(1, 13), ['Jan', 'Feb', 'Mar', 'Apr', 'May', 'Jun', 'Jul', 'Aug', 'Sep', 'Oct', 'Nov', 'Dec'])\n",
        "plt.show()"
      ]
    },
    {
      "cell_type": "markdown",
      "metadata": {
        "id": "Zqalzi4pOFN0"
      },
      "source": [
        "**Insights for the best time to launch a TV show :**\n",
        "\n",
        "**It can be observed that in December,there is a higher number of TV shows released, likely due to the Christmas and New Year holidays when production companies tend to release more TV shows**"
      ]
    },
    {
      "cell_type": "markdown",
      "metadata": {
        "id": "MG2-QmRrANxs"
      },
      "source": [
        "**Analysis of actors/directors of different types of shows/movies.**"
      ]
    },
    {
      "cell_type": "code",
      "execution_count": null,
      "metadata": {
        "id": "FtbBR3waEbLw",
        "colab": {
          "base_uri": "https://localhost:8080/"
        },
        "outputId": "c12c5c20-c8ce-4d1d-b057-293b04b8633c"
      },
      "outputs": [
        {
          "output_type": "stream",
          "name": "stdout",
          "text": [
            "Top five actors in movies:\n",
            "Unknown           475\n",
            " Anupam Kher       38\n",
            " Rupa Bhimani      27\n",
            " Om Puri           27\n",
            "Shah Rukh Khan     26\n",
            "Name: cast, dtype: int64\n",
            "\n",
            "Top five actors in TV shows:\n",
            "Unknown              350\n",
            " Takahiro Sakurai     24\n",
            " Yuki Kaji            17\n",
            " Ai Kayano            17\n",
            " Junichi Suwabe       17\n",
            "Name: cast, dtype: int64\n",
            "\n",
            "Top five directors in movies:\n",
            "Unknown          188\n",
            "Rajiv Chilaka     22\n",
            "Raúl Campos       18\n",
            " Jan Suter        18\n",
            "Suhas Kadav       16\n",
            "Name: director, dtype: int64\n",
            "\n",
            "Top five directors in TV shows:\n",
            "Unknown                2446\n",
            "Ken Burns                 3\n",
            "Alastair Fothergill       3\n",
            "Joe Berlinger             2\n",
            "Iginio Straffi            2\n",
            "Name: director, dtype: int64\n"
          ]
        }
      ],
      "source": [
        "movies_df = df[df['type'] == 'Movie'].explode('cast').reset_index(drop=True)\n",
        "tv_shows_df = df[df['type'] == 'TV Show'].explode('cast').reset_index(drop=True)\n",
        "\n",
        "movie_directors_df = df[df['type'] == 'Movie'].explode('director').reset_index(drop=True)\n",
        "tv_show_directors_df = df[df['type'] == 'TV Show'].explode('director').reset_index(drop=True)\n",
        "#actors\n",
        "top_movie_actors = movies_df['cast'].value_counts().nlargest(5)\n",
        "top_tv_show_actors = tv_shows_df['cast'].value_counts().nlargest(5)\n",
        "#directors\n",
        "top_movie_directors = movie_directors_df['director'].value_counts().nlargest(5)\n",
        "top_tv_show_directors = tv_show_directors_df['director'].value_counts().nlargest(5)\n",
        "\n",
        "print(\"Top five actors in movies:\")\n",
        "print(top_movie_actors)\n",
        "\n",
        "print(\"\\nTop five actors in TV shows:\")\n",
        "print(top_tv_show_actors)\n",
        "\n",
        "print(\"\\nTop five directors in movies:\")\n",
        "print(top_movie_directors)\n",
        "\n",
        "print(\"\\nTop five directors in TV shows:\")\n",
        "print(top_tv_show_directors)\n"
      ]
    },
    {
      "cell_type": "markdown",
      "metadata": {
        "id": "ahety0e3F-Ku"
      },
      "source": [
        "**Insights for Analysis of actors/directors of different types of shows/movies.**\n",
        "\n",
        "**Anupam Kher and Shah Rukh Khan are top actors in movies, while Takahiro Sakurai, Yuki Kaji, Ai Kayano, and Junichi Suwabe are top actors in TV shows, indicating a concentration of Japanese TV shows.**"
      ]
    },
    {
      "cell_type": "markdown",
      "metadata": {
        "id": "apetK57oF-bj"
      },
      "source": [
        "**Does Netflix has more focus on TV Shows than movies in recent years**"
      ]
    },
    {
      "cell_type": "code",
      "execution_count": null,
      "metadata": {
        "id": "wZBpVKDdG-dx",
        "colab": {
          "base_uri": "https://localhost:8080/",
          "height": 564
        },
        "outputId": "f287a046-9518-4a62-ec3c-5a51267bcdbb"
      },
      "outputs": [
        {
          "output_type": "display_data",
          "data": {
            "text/plain": [
              "<Figure size 1000x600 with 1 Axes>"
            ],
            "image/png": "[encoded data removed]"
          },
          "metadata": {}
        }
      ],
      "source": [
        "df['date_added'] = pd.to_datetime(df['date_added'])\n",
        "df['year_added'] = df['date_added'].dt.year\n",
        "pivot_table = df.pivot_table(index='year_added', columns='type', values='show_id',aggfunc='count')\n",
        "\n",
        "# Plotting the data\n",
        "plt.figure(figsize=(10, 6))\n",
        "sns.barplot(x=pivot_table.index, y='Movie', data=pivot_table, color='blue', label='Movie')\n",
        "sns.barplot(x=pivot_table.index, y='TV Show', data=pivot_table, color='red', label='TV Show')\n",
        "plt.xlabel('Year')\n",
        "plt.ylabel('Count')\n",
        "plt.title('Number of TV Shows and Movies Added Year-wise on Netflix')\n",
        "plt.legend(title='Type')\n",
        "plt.show()"
      ]
    },
    {
      "cell_type": "markdown",
      "metadata": {
        "id": "4JsfT3ajIE50"
      },
      "source": [
        "**Insights for Does Netflix has more focus on TV Shows than movies in recent years :**\n",
        "\n",
        "**From the above visualization, when we compared 2008 to 2014, there were a minimalistic amount of TV shows released. After 2014, from 2015 onwards, Netflix started focusing on TV shows, and every year there was an increase in entries of TV shows, except in 2021 due to the pandemic**"
      ]
    },
    {
      "cell_type": "markdown",
      "metadata": {
        "id": "AXHT6PwEIFH3"
      },
      "source": [
        "**Understanding what content is available in different countries**"
      ]
    },
    {
      "cell_type": "code",
      "execution_count": null,
      "metadata": {
        "id": "EMNavx9bIJlH",
        "colab": {
          "base_uri": "https://localhost:8080/",
          "height": 933
        },
        "outputId": "b6b3a5c8-201b-4de1-8259-151e999515d6"
      },
      "outputs": [
        {
          "output_type": "display_data",
          "data": {
            "text/plain": [
              "<Figure size 1200x600 with 2 Axes>"
            ],
            "image/png": "[encoded data removed]"
          },
          "metadata": {}
        },
        {
          "output_type": "stream",
          "name": "stdout",
          "text": [
            "Top 10 countries with the most content:\n",
            "United States     2818\n",
            "India              972\n",
            "Unknown            831\n",
            "United Kingdom     419\n",
            "Japan              245\n",
            "South Korea        199\n",
            "Canada             181\n",
            "Spain              145\n",
            "France             124\n",
            "Mexico             110\n",
            "Name: country, dtype: int64\n"
          ]
        }
      ],
      "source": [
        "df = df.dropna(subset=['country'])\n",
        "content_types = df['type'].value_counts()\n",
        "genres = df['listed_in'].str.split(', ').explode().value_counts()\n",
        "top_countries = df['country'].value_counts().head(10)\n",
        "\n",
        "plt.figure(figsize=(12, 6))\n",
        "# Plot for content types\n",
        "plt.subplot(1, 2, 1)\n",
        "content_types.plot(kind='bar',color=\"orange\")\n",
        "plt.title('Content Types')\n",
        "plt.xlabel('Type')\n",
        "plt.ylabel('Number of Shows or Movies')\n",
        "\n",
        "# Plot for genres\n",
        "plt.subplot(1, 2, 2)\n",
        "genres.head(10).plot(kind='bar',color=\"red\")\n",
        "plt.title('Most Famous Genres')\n",
        "plt.xlabel('Genre')\n",
        "plt.ylabel('Number of Shows or Movies')\n",
        "plt.show()\n",
        "\n",
        "print('Top 10 countries with the most content:')\n",
        "print(top_countries)"
      ]
    },
    {
      "cell_type": "markdown",
      "metadata": {
        "id": "FxY5IliqRLUV"
      },
      "source": [
        "**Insights for what content is available in different countries**\n",
        "\n",
        "**The United States stands at the top in releasing various types of content. International movies, dramas, and comedies rank high on the genre list, while romantic movies have the lowest number of releases.**"
      ]
    },
    {
      "cell_type": "markdown",
      "metadata": {
        "id": "Tjecc2kKNwGB"
      },
      "source": [
        "**7. Business Insights**"
      ]
    },
    {
      "cell_type": "markdown",
      "metadata": {
        "id": "nUiAiJ7FN5uD"
      },
      "source": [
        "**Common Business Insights**\n",
        "\n",
        "1.   Netflix had released more movies as compared to TV shows.\n",
        "\n",
        "2.   The United States and India are the top two countries with the highest\n",
        "     number of movies and TV shows released.\n",
        "\n",
        "3.   Among them, the United States alone has the largest number of releases\n",
        "     compared to any other country.\n",
        "\n",
        "4.   There was a significant rise in the release of movies and TV shows, but in\n",
        "     2021, due to the pandemic, there was a sudden drop in the number of release entries."
      ]
    },
    {
      "cell_type": "markdown",
      "metadata": {
        "id": "xgOSr7CcU7jg"
      },
      "source": [
        "**Business Insights for Movies**\n",
        "\n",
        "1. The United states , Indian movies are more popular when compared to other\n",
        "   countries\n",
        "\n",
        "2. Most movies have a duration between 90 minutes and 106 minutes, and there   \n",
        "   are 152 movies with a duration of 90 minutes\n",
        "\n",
        "3. The top cast for movies includes Indian actors like Anupam Kher and Shah  \n",
        "   Rukh Khan.\n",
        "\n",
        "4. The top director is also from India(\"Rajiv Chilaka\"),and he has released 22\n",
        "   movies alone.\n",
        "\n",
        "5. Netflix has been consistent in adding movies after 2005.\n",
        "\n",
        "6. Most of the movies released by Netflix were within the range of 2016 to\n",
        "   2021."
      ]
    },
    {
      "cell_type": "markdown",
      "metadata": {
        "id": "C2xUirPmZiEf"
      },
      "source": [
        "**Business Insights for Tv Shows**\n",
        "\n",
        "1. Most of the TV shows have only two seasons, Season 1 and Season 2.\n",
        "\n",
        "2. Most of the Tv shows were released in the month of July and August\n",
        "\n",
        "3. In 25 percent of countries, Netflix has produced only 1 TV show.\n",
        "\n",
        "4. After 2014, Netflix began to focus on producing and releasing TV shows, starting from 2015 onwards."
      ]
    },
    {
      "cell_type": "markdown",
      "metadata": {
        "id": "E6oxm0a3ajvt"
      },
      "source": [
        "**Recommendations for Movies**\n",
        "\n",
        "1. By consistently adding new movies in upcoming years, Netflix can attract  \n",
        "   more subscribers to their platform.\n",
        "\n",
        "2. Anupam Kher has appeared in many movies. Netflix can leverage his popularity\n",
        "   by creating TV shows, which would reach a larger audience.\n",
        "\n",
        "3. Since the United States has a larger number of entries, introducing new\n",
        "   genres will attract a global audience.\n",
        "\n",
        "**Additional Recommendation for Movies**\n",
        "1. Netflix can make movies with leading actors from different countries so that\n",
        "   it can make global attraction.\n",
        "\n",
        "2. Netflix can also make a sequel movie to engage the audience and encourage\n",
        "  them to watch the movies\n",
        "\n",
        "3. To increase viewership during weekends when many people have holidays,\n",
        "   Netflix could consider releasing more movies on Fridays.\n",
        "  \n",
        "4. Netflix can dub the most popular movies from around the world into various\n",
        "   languages, making them accessible to a global audience.\n",
        "\n",
        "5. Netflix may consider producing less adult content to potentially attract a\n",
        "   larger family audience.\n",
        "\n",
        "6. Netflix can advertise on social media to reach a broader audience and  \n",
        "   provide engaging interviews with the movie's cast and director, featuring audience-favorite questions.\n"
      ]
    },
    {
      "cell_type": "markdown",
      "metadata": {
        "id": "OdS5sKPfiA_l"
      },
      "source": [
        "**Recommendations for Tv Shows**\n",
        "\n",
        "In India, the ratio of Movies to TV shows differs by 10 times. Introducing more TV shows with similar genres as the movies can help Netflix grow in India.\"\n",
        "\n",
        "\n",
        "**Additional Recommendations for Tv Shows**\n",
        "\n",
        "1. Netflix can strategically release TV shows during long holidays, such as\n",
        "   Christmas and New Year, when people have more free time to watch.\n",
        "\n",
        "2. Otherwise, Netflix can release one episode per week, making the audience  \n",
        "   more engaged by anticipating the release of each subsequent episode.\n",
        "\n",
        "3. Netflix can also focus on making TV shows audio available in different\n",
        "   languages from all over the world to attract a global audience.\n",
        "\n",
        "4. Netflix can also produce Tv shows based on real-life incidents, which can\n",
        "   increase audience attraction."
      ]
    }
  ],
  "metadata": {
    "colab": {
      "provenance": []
    },
    "kernelspec": {
      "display_name": "Python 3",
      "name": "python3"
    },
    "language_info": {
      "name": "python"
    }
  },
  "nbformat": 4,
  "nbformat_minor": 0
}